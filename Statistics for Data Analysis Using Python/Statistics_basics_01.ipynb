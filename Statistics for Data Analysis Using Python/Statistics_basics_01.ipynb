{
 "cells": [
  {
   "cell_type": "code",
   "execution_count": 2,
   "id": "aef8d383",
   "metadata": {},
   "outputs": [],
   "source": [
    "a = [1, 2, 3, 3]"
   ]
  },
  {
   "cell_type": "code",
   "execution_count": 3,
   "id": "14ca875b",
   "metadata": {},
   "outputs": [
    {
     "data": {
      "text/plain": [
       "9"
      ]
     },
     "execution_count": 3,
     "metadata": {},
     "output_type": "execute_result"
    }
   ],
   "source": [
    "sum(a)"
   ]
  },
  {
   "cell_type": "code",
   "execution_count": 4,
   "id": "eea5949f",
   "metadata": {},
   "outputs": [
    {
     "data": {
      "text/plain": [
       "4"
      ]
     },
     "execution_count": 4,
     "metadata": {},
     "output_type": "execute_result"
    }
   ],
   "source": [
    "len(a)"
   ]
  },
  {
   "cell_type": "code",
   "execution_count": 5,
   "id": "7d84bd47",
   "metadata": {},
   "outputs": [
    {
     "data": {
      "text/plain": [
       "2"
      ]
     },
     "execution_count": 5,
     "metadata": {},
     "output_type": "execute_result"
    }
   ],
   "source": [
    "a.count(3)"
   ]
  },
  {
   "cell_type": "code",
   "execution_count": 6,
   "id": "2cc2d2c1",
   "metadata": {},
   "outputs": [
    {
     "data": {
      "text/plain": [
       "2.25"
      ]
     },
     "execution_count": 6,
     "metadata": {},
     "output_type": "execute_result"
    }
   ],
   "source": [
    "m_mean = sum(a) / len(a)"
   ]
  },
  {
   "cell_type": "markdown",
   "id": "609c099c",
   "metadata": {},
   "source": [
    "# Importing the Package ie Statistics"
   ]
  },
  {
   "cell_type": "code",
   "execution_count": 7,
   "id": "83ab6af9",
   "metadata": {},
   "outputs": [],
   "source": [
    "import statistics"
   ]
  },
  {
   "cell_type": "code",
   "execution_count": 8,
   "id": "e53ba26b",
   "metadata": {},
   "outputs": [
    {
     "data": {
      "text/plain": [
       "2.25"
      ]
     },
     "execution_count": 8,
     "metadata": {},
     "output_type": "execute_result"
    }
   ],
   "source": [
    "statistics.mean(a)"
   ]
  },
  {
   "cell_type": "code",
   "execution_count": 9,
   "id": "8a81c155",
   "metadata": {},
   "outputs": [
    {
     "data": {
      "text/plain": [
       "2.5"
      ]
     },
     "execution_count": 9,
     "metadata": {},
     "output_type": "execute_result"
    }
   ],
   "source": [
    "statistics.median(a)"
   ]
  },
  {
   "cell_type": "code",
   "execution_count": 10,
   "id": "ba6b0b43",
   "metadata": {},
   "outputs": [
    {
     "data": {
      "text/plain": [
       "3"
      ]
     },
     "execution_count": 10,
     "metadata": {},
     "output_type": "execute_result"
    }
   ],
   "source": [
    "statistics.mode(a)"
   ]
  },
  {
   "cell_type": "code",
   "execution_count": 11,
   "id": "733855d0",
   "metadata": {},
   "outputs": [
    {
     "data": {
      "text/plain": [
       "2"
      ]
     },
     "execution_count": 11,
     "metadata": {},
     "output_type": "execute_result"
    }
   ],
   "source": [
    "max(a) - min(a)"
   ]
  },
  {
   "cell_type": "code",
   "execution_count": 12,
   "id": "a9e9edec",
   "metadata": {},
   "outputs": [
    {
     "data": {
      "text/plain": [
       "0.9574271077563381"
      ]
     },
     "execution_count": 12,
     "metadata": {},
     "output_type": "execute_result"
    }
   ],
   "source": [
    "statistics.stdev(a)"
   ]
  },
  {
   "cell_type": "code",
   "execution_count": 13,
   "id": "963b1fbc",
   "metadata": {},
   "outputs": [
    {
     "data": {
      "text/plain": [
       "0.9166666666666666"
      ]
     },
     "execution_count": 13,
     "metadata": {},
     "output_type": "execute_result"
    }
   ],
   "source": [
    "statistics.variance(a)"
   ]
  },
  {
   "cell_type": "code",
   "execution_count": 15,
   "id": "601497e6",
   "metadata": {},
   "outputs": [],
   "source": [
    "b = statistics.quantiles(a)"
   ]
  },
  {
   "cell_type": "code",
   "execution_count": 16,
   "id": "6e846d5d",
   "metadata": {},
   "outputs": [
    {
     "data": {
      "text/plain": [
       "[1.25, 2.5, 3.0]"
      ]
     },
     "execution_count": 16,
     "metadata": {},
     "output_type": "execute_result"
    }
   ],
   "source": [
    "b"
   ]
  },
  {
   "cell_type": "code",
   "execution_count": 18,
   "id": "ab04f414",
   "metadata": {},
   "outputs": [],
   "source": [
    "Inter_quartile_range = b[2] - b[0]"
   ]
  },
  {
   "cell_type": "code",
   "execution_count": 19,
   "id": "ae8037d7",
   "metadata": {},
   "outputs": [
    {
     "data": {
      "text/plain": [
       "1.75"
      ]
     },
     "execution_count": 19,
     "metadata": {},
     "output_type": "execute_result"
    }
   ],
   "source": [
    "Inter_quartile_range"
   ]
  },
  {
   "cell_type": "code",
   "execution_count": 20,
   "id": "880755a5",
   "metadata": {},
   "outputs": [],
   "source": [
    "c = [70, 85, 90, 98, 104, 105, 107]"
   ]
  },
  {
   "cell_type": "code",
   "execution_count": 21,
   "id": "76197a39",
   "metadata": {},
   "outputs": [],
   "source": [
    "q = statistics.quantiles(c)"
   ]
  },
  {
   "cell_type": "code",
   "execution_count": 22,
   "id": "7951ca57",
   "metadata": {},
   "outputs": [
    {
     "data": {
      "text/plain": [
       "[85.0, 98.0, 105.0]"
      ]
     },
     "execution_count": 22,
     "metadata": {},
     "output_type": "execute_result"
    }
   ],
   "source": [
    "q"
   ]
  },
  {
   "cell_type": "code",
   "execution_count": 23,
   "id": "b4805793",
   "metadata": {},
   "outputs": [],
   "source": [
    "IQR = q[2] - q[0]"
   ]
  },
  {
   "cell_type": "code",
   "execution_count": 24,
   "id": "6a916ffd",
   "metadata": {},
   "outputs": [
    {
     "data": {
      "text/plain": [
       "20.0"
      ]
     },
     "execution_count": 24,
     "metadata": {},
     "output_type": "execute_result"
    }
   ],
   "source": [
    "IQR"
   ]
  },
  {
   "cell_type": "code",
   "execution_count": 25,
   "id": "e03cb490",
   "metadata": {},
   "outputs": [],
   "source": [
    "import matplotlib.pyplot as plt\n",
    "import seaborn as sns"
   ]
  },
  {
   "cell_type": "code",
   "execution_count": 27,
   "id": "6bf9a302",
   "metadata": {},
   "outputs": [
    {
     "data": {
      "text/plain": [
       "<AxesSubplot:>"
      ]
     },
     "execution_count": 27,
     "metadata": {},
     "output_type": "execute_result"
    },
    {
     "data": {
      "image/png": "[encoded data removed]",
      "text/plain": [
       "<Figure size 640x480 with 1 Axes>"
      ]
     },
     "metadata": {},
     "output_type": "display_data"
    }
   ],
   "source": [
    "sns.boxplot(x=c)       ## x is horizontal"
   ]
  },
  {
   "cell_type": "code",
   "execution_count": 28,
   "id": "aee04f7b",
   "metadata": {},
   "outputs": [
    {
     "data": {
      "text/plain": [
       "<AxesSubplot:>"
      ]
     },
     "execution_count": 28,
     "metadata": {},
     "output_type": "execute_result"
    },
    {
     "data": {
      "image/png": "[encoded data removed]",
      "text/plain": [
       "<Figure size 640x480 with 1 Axes>"
      ]
     },
     "metadata": {},
     "output_type": "display_data"
    }
   ],
   "source": [
    "sns.boxplot(y=c)     ## y is vertical"
   ]
  },
  {
   "cell_type": "code",
   "execution_count": null,
   "id": "59ec1546",
   "metadata": {},
   "outputs": [],
   "source": []
  }
 ],
 "metadata": {
  "kernelspec": {
   "display_name": "Python 3 (ipykernel)",
   "language": "python",
   "name": "python3"
  },
  "language_info": {
   "codemirror_mode": {
    "name": "ipython",
    "version": 3
   },
   "file_extension": ".py",
   "mimetype": "text/x-python",
   "name": "python",
   "nbconvert_exporter": "python",
   "pygments_lexer": "ipython3",
   "version": "3.9.13"
  }
 },
 "nbformat": 4,
 "nbformat_minor": 5
}
