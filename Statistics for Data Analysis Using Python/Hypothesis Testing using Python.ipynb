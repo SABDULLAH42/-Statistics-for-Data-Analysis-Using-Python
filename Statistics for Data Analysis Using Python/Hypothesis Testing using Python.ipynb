{
 "cells": [
  {
   "cell_type": "code",
   "execution_count": null,
   "id": "b8725b80",
   "metadata": {},
   "outputs": [],
   "source": [
    "A machine is producing perfume bottles with the long term average of 150cc and the standard deviation of 2 cc.\n",
    "Four bottles are picked and the average volume was found to be 153.8cc. Has the average volume changed from 150cc?\n",
    "Test eith 95% confidence level."
   ]
  },
  {
   "cell_type": "code",
   "execution_count": null,
   "id": "088b2bbe",
   "metadata": {},
   "outputs": [],
   "source": [
    "Alternate hypothesis: Mean Volume != 150cc\n",
    "    \n",
    "Null hypothesis: Mean Volume = 150cc\n",
    "    \n",
    "Alpha = 1 - 0.95 = 0.05\n",
    "\n",
    "Z calculated = (Observed mean - population mean) / standard error z = (x - μ) / (σ / √n)"
   ]
  },
  {
   "cell_type": "code",
   "execution_count": 4,
   "id": "a8818bb7",
   "metadata": {},
   "outputs": [],
   "source": [
    "import numpy as np\n",
    "import pandas as pd\n",
    "import matplotlib.pyplot as plt\n",
    "import seaborn as sns\n",
    "from scipy.stats import norm"
   ]
  },
  {
   "cell_type": "code",
   "execution_count": 2,
   "id": "a4b6aea1",
   "metadata": {},
   "outputs": [],
   "source": [
    "Z_cal = (153.8 - 150) / (2 / np.sqrt(4))"
   ]
  },
  {
   "cell_type": "code",
   "execution_count": 3,
   "id": "f6315ec7",
   "metadata": {},
   "outputs": [
    {
     "data": {
      "text/plain": [
       "3.8000000000000114"
      ]
     },
     "execution_count": 3,
     "metadata": {},
     "output_type": "execute_result"
    }
   ],
   "source": [
    "Z_cal"
   ]
  },
  {
   "cell_type": "code",
   "execution_count": null,
   "id": "55d6d324",
   "metadata": {},
   "outputs": [],
   "source": [
    "# norm.pdf (x, loc=0, scale=1)   Probabilty density function\n",
    "\n",
    "# norm.cdf (x, loc=0, scale=1)   Cumulative distribution function.  (area to the left of x)\n",
    "\n",
    "# norm.sf (x, loc=0, scale=1)    Survival function (also defined as 1 - cdf, but sf is somtimes)\n",
    "\n",
    "# norm.ppf (q, loc=0, scale=1)    Percent point function  (inverse of cdf-percentiles)\n",
    "\n",
    "# norm.isf (q, loc=0, scale=1)    Inverse survival function  (inverse of sf)"
   ]
  },
  {
   "cell_type": "code",
   "execution_count": 5,
   "id": "6d56d2a6",
   "metadata": {},
   "outputs": [
    {
     "data": {
      "text/plain": [
       "0.3989422804014327"
      ]
     },
     "execution_count": 5,
     "metadata": {},
     "output_type": "execute_result"
    }
   ],
   "source": [
    "norm.pdf(0)       # zero is the mean and SD is 1"
   ]
  },
  {
   "cell_type": "code",
   "execution_count": 7,
   "id": "1a4aee52",
   "metadata": {},
   "outputs": [
    {
     "data": {
      "text/plain": [
       "0.5"
      ]
     },
     "execution_count": 7,
     "metadata": {},
     "output_type": "execute_result"
    }
   ],
   "source": [
    "norm.cdf(0)"
   ]
  },
  {
   "cell_type": "code",
   "execution_count": 8,
   "id": "95639857",
   "metadata": {},
   "outputs": [
    {
     "data": {
      "text/plain": [
       "0.024997895148220435"
      ]
     },
     "execution_count": 8,
     "metadata": {},
     "output_type": "execute_result"
    }
   ],
   "source": [
    "norm.cdf(-1.96)"
   ]
  },
  {
   "cell_type": "code",
   "execution_count": 9,
   "id": "e751c112",
   "metadata": {},
   "outputs": [
    {
     "data": {
      "text/plain": [
       "-1.9599639845400545"
      ]
     },
     "execution_count": 9,
     "metadata": {},
     "output_type": "execute_result"
    }
   ],
   "source": [
    "norm.ppf(0.025)"
   ]
  },
  {
   "cell_type": "code",
   "execution_count": 10,
   "id": "33a37695",
   "metadata": {},
   "outputs": [
    {
     "data": {
      "text/plain": [
       "0.024997895148220435"
      ]
     },
     "execution_count": 10,
     "metadata": {},
     "output_type": "execute_result"
    }
   ],
   "source": [
    "norm.sf(1.96)"
   ]
  },
  {
   "cell_type": "code",
   "execution_count": 11,
   "id": "e53c948d",
   "metadata": {},
   "outputs": [
    {
     "data": {
      "text/plain": [
       "1.9599639845400545"
      ]
     },
     "execution_count": 11,
     "metadata": {},
     "output_type": "execute_result"
    }
   ],
   "source": [
    "norm.isf(0.025)"
   ]
  },
  {
   "cell_type": "code",
   "execution_count": 12,
   "id": "cf0d8ea8",
   "metadata": {},
   "outputs": [],
   "source": [
    "p_value = 2 * norm.sf(Z_cal)"
   ]
  },
  {
   "cell_type": "code",
   "execution_count": 13,
   "id": "507cf9a8",
   "metadata": {},
   "outputs": [
    {
     "data": {
      "text/plain": [
       "0.0001446960878502333"
      ]
     },
     "execution_count": 13,
     "metadata": {},
     "output_type": "execute_result"
    }
   ],
   "source": [
    "p_value"
   ]
  },
  {
   "cell_type": "markdown",
   "id": "8fd323e3",
   "metadata": {},
   "source": [
    "## When p value is less than alpha ie 0.05 then we will reject the Null hypothesis"
   ]
  },
  {
   "cell_type": "code",
   "execution_count": null,
   "id": "767efdb8",
   "metadata": {},
   "outputs": [],
   "source": []
  },
  {
   "cell_type": "code",
   "execution_count": null,
   "id": "4a57d5c8",
   "metadata": {},
   "outputs": [],
   "source": []
  }
 ],
 "metadata": {
  "kernelspec": {
   "display_name": "Python 3 (ipykernel)",
   "language": "python",
   "name": "python3"
  },
  "language_info": {
   "codemirror_mode": {
    "name": "ipython",
    "version": 3
   },
   "file_extension": ".py",
   "mimetype": "text/x-python",
   "name": "python",
   "nbconvert_exporter": "python",
   "pygments_lexer": "ipython3",
   "version": "3.9.13"
  }
 },
 "nbformat": 4,
 "nbformat_minor": 5
}
