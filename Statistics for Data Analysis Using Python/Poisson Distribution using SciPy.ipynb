{
 "cells": [
  {
   "cell_type": "code",
   "execution_count": 16,
   "id": "06a49b4c",
   "metadata": {},
   "outputs": [],
   "source": [
    "import numpy as np\n",
    "import matplotlib.pyplot as plt\n",
    "import seaborn as sns\n",
    "from scipy.stats import poisson"
   ]
  },
  {
   "cell_type": "markdown",
   "id": "894ac931",
   "metadata": {},
   "source": [
    "## On a booking counter on the average 3.6 people come every 10 minute on weekend. What is the probability of getting 7 people in 10 mins?"
   ]
  },
  {
   "cell_type": "code",
   "execution_count": 2,
   "id": "7f200651",
   "metadata": {},
   "outputs": [
    {
     "data": {
      "text/plain": [
       "0.04248414026930935"
      ]
     },
     "execution_count": 2,
     "metadata": {},
     "output_type": "execute_result"
    }
   ],
   "source": [
    "poisson.pmf(7, 3.6)"
   ]
  },
  {
   "cell_type": "code",
   "execution_count": 3,
   "id": "1e1054e0",
   "metadata": {},
   "outputs": [],
   "source": [
    "# poisson.cdf(k, mu) - Cumulative distribution function - for less than or equal to\n",
    "# poisson .pmf(k, mu) - Prabibility mass function - for exact value\n",
    "# poisson.mf(k, mu) -  For more than (similar to 1-cdf)\n",
    "# poisson.mean(mu) -  for mean of the distribution\n",
    "# poisson.var(mu) -   for variance of the distribution\n",
    "# poisson.sts(mu) -  for standard deviation of the distribution"
   ]
  },
  {
   "cell_type": "code",
   "execution_count": 4,
   "id": "9126f37e",
   "metadata": {},
   "outputs": [
    {
     "data": {
      "text/plain": [
       "0.9692107246403425"
      ]
     },
     "execution_count": 4,
     "metadata": {},
     "output_type": "execute_result"
    }
   ],
   "source": [
    "poisson.cdf(7, 3.6)     # Prob of 7 or less people in the queue"
   ]
  },
  {
   "cell_type": "code",
   "execution_count": 5,
   "id": "589fb5a0",
   "metadata": {},
   "outputs": [
    {
     "data": {
      "text/plain": [
       "0.030789275359657444"
      ]
     },
     "execution_count": 5,
     "metadata": {},
     "output_type": "execute_result"
    }
   ],
   "source": [
    "poisson.sf(7, 3.6)       # Probability of more than 7 people"
   ]
  },
  {
   "cell_type": "code",
   "execution_count": 6,
   "id": "a9d46ae8",
   "metadata": {},
   "outputs": [
    {
     "data": {
      "text/plain": [
       "3.6"
      ]
     },
     "execution_count": 6,
     "metadata": {},
     "output_type": "execute_result"
    }
   ],
   "source": [
    "poisson.mean(3.6)"
   ]
  },
  {
   "cell_type": "code",
   "execution_count": 7,
   "id": "24815486",
   "metadata": {},
   "outputs": [
    {
     "data": {
      "text/plain": [
       "3.6"
      ]
     },
     "execution_count": 7,
     "metadata": {},
     "output_type": "execute_result"
    }
   ],
   "source": [
    "poisson.var(3.6)"
   ]
  },
  {
   "cell_type": "code",
   "execution_count": 8,
   "id": "2a89d363",
   "metadata": {},
   "outputs": [
    {
     "data": {
      "text/plain": [
       "1.8973665961010275"
      ]
     },
     "execution_count": 8,
     "metadata": {},
     "output_type": "execute_result"
    }
   ],
   "source": [
    "poisson.std(3.6)"
   ]
  },
  {
   "cell_type": "code",
   "execution_count": 9,
   "id": "94ca403f",
   "metadata": {},
   "outputs": [
    {
     "data": {
      "text/plain": [
       "array([ 0,  1,  2,  3,  4,  5,  6,  7,  8,  9, 10])"
      ]
     },
     "execution_count": 9,
     "metadata": {},
     "output_type": "execute_result"
    }
   ],
   "source": [
    "x_ax = np.arange(0, 11)\n",
    "x_ax"
   ]
  },
  {
   "cell_type": "code",
   "execution_count": 10,
   "id": "0d0cd7a7",
   "metadata": {},
   "outputs": [],
   "source": [
    "#y_ax = poisson(x_ax, 3.6)\n",
    "#sns.barplot(x = x_ax, y = y_ax)\n",
    "#plt.show()"
   ]
  },
  {
   "cell_type": "code",
   "execution_count": 11,
   "id": "26e6f5d0",
   "metadata": {},
   "outputs": [],
   "source": [
    "y_ax = poisson.pmf(x_ax, 3.6)"
   ]
  },
  {
   "cell_type": "code",
   "execution_count": 12,
   "id": "dd22b575",
   "metadata": {},
   "outputs": [
    {
     "data": {
      "image/png": "[encoded data removed]",
      "text/plain": [
       "<Figure size 640x480 with 1 Axes>"
      ]
     },
     "metadata": {},
     "output_type": "display_data"
    }
   ],
   "source": [
    "sns.barplot(x = x_ax, y=y_ax)\n",
    "plt.show()"
   ]
  },
  {
   "cell_type": "markdown",
   "id": "8aaac179",
   "metadata": {},
   "source": [
    "## A company receives on average 4.6 calls per hour. What is the probability of getting exactly 8 calls in an hour?"
   ]
  },
  {
   "cell_type": "code",
   "execution_count": 13,
   "id": "5cfe84d6",
   "metadata": {},
   "outputs": [
    {
     "data": {
      "text/plain": [
       "0.049978994352065334"
      ]
     },
     "execution_count": 13,
     "metadata": {},
     "output_type": "execute_result"
    }
   ],
   "source": [
    "p8 = poisson.pmf(8, 4.6)\n",
    "p8"
   ]
  },
  {
   "cell_type": "markdown",
   "id": "9fd2e18b",
   "metadata": {},
   "source": [
    "## A company receives on average 4.6 calls per hour. What is the probability of getting more than 6 calls in an hour?"
   ]
  },
  {
   "cell_type": "code",
   "execution_count": 14,
   "id": "e3a4f137",
   "metadata": {},
   "outputs": [
    {
     "data": {
      "text/plain": [
       "0.1819709485818438"
      ]
     },
     "execution_count": 14,
     "metadata": {},
     "output_type": "execute_result"
    }
   ],
   "source": [
    "p_gt_6 = poisson.sf(6, 4.6)\n",
    "p_gt_6"
   ]
  },
  {
   "cell_type": "code",
   "execution_count": 15,
   "id": "3c3edbca",
   "metadata": {},
   "outputs": [
    {
     "data": {
      "text/plain": [
       "0.8180290514181562"
      ]
     },
     "execution_count": 15,
     "metadata": {},
     "output_type": "execute_result"
    }
   ],
   "source": [
    "poisson.cdf(6, 4.6)"
   ]
  },
  {
   "cell_type": "code",
   "execution_count": null,
   "id": "80d2d769",
   "metadata": {},
   "outputs": [],
   "source": []
  }
 ],
 "metadata": {
  "kernelspec": {
   "display_name": "Python 3 (ipykernel)",
   "language": "python",
   "name": "python3"
  },
  "language_info": {
   "codemirror_mode": {
    "name": "ipython",
    "version": 3
   },
   "file_extension": ".py",
   "mimetype": "text/x-python",
   "name": "python",
   "nbconvert_exporter": "python",
   "pygments_lexer": "ipython3",
   "version": "3.9.13"
  }
 },
 "nbformat": 4,
 "nbformat_minor": 5
}
