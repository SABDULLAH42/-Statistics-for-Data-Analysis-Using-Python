{
 "cells": [
  {
   "cell_type": "code",
   "execution_count": 1,
   "id": "bba77532",
   "metadata": {},
   "outputs": [],
   "source": [
    "import numpy as np\n",
    "import pandas as pd\n",
    "import matplotlib.pyplot as plt"
   ]
  },
  {
   "cell_type": "code",
   "execution_count": 2,
   "id": "a59ddad9",
   "metadata": {},
   "outputs": [
    {
     "data": {
      "text/html": [
       "<div>\n",
       "<style scoped>\n",
       "    .dataframe tbody tr th:only-of-type {\n",
       "        vertical-align: middle;\n",
       "    }\n",
       "\n",
       "    .dataframe tbody tr th {\n",
       "        vertical-align: top;\n",
       "    }\n",
       "\n",
       "    .dataframe thead th {\n",
       "        text-align: right;\n",
       "    }\n",
       "</style>\n",
       "<table border=\"1\" class=\"dataframe\">\n",
       "  <thead>\n",
       "    <tr style=\"text-align: right;\">\n",
       "      <th></th>\n",
       "      <th>Item_No</th>\n",
       "      <th>Length</th>\n",
       "      <th>Width</th>\n",
       "      <th>Height</th>\n",
       "      <th>Operator</th>\n",
       "    </tr>\n",
       "  </thead>\n",
       "  <tbody>\n",
       "    <tr>\n",
       "      <th>0</th>\n",
       "      <td>Item-1</td>\n",
       "      <td>102.67</td>\n",
       "      <td>49.53</td>\n",
       "      <td>19.69</td>\n",
       "      <td>Op-1</td>\n",
       "    </tr>\n",
       "    <tr>\n",
       "      <th>1</th>\n",
       "      <td>Item-2</td>\n",
       "      <td>102.50</td>\n",
       "      <td>51.42</td>\n",
       "      <td>19.63</td>\n",
       "      <td>Op-1</td>\n",
       "    </tr>\n",
       "    <tr>\n",
       "      <th>2</th>\n",
       "      <td>Item-3</td>\n",
       "      <td>95.37</td>\n",
       "      <td>52.25</td>\n",
       "      <td>21.51</td>\n",
       "      <td>Op-1</td>\n",
       "    </tr>\n",
       "    <tr>\n",
       "      <th>3</th>\n",
       "      <td>Item-4</td>\n",
       "      <td>94.77</td>\n",
       "      <td>49.24</td>\n",
       "      <td>18.60</td>\n",
       "      <td>Op-1</td>\n",
       "    </tr>\n",
       "    <tr>\n",
       "      <th>4</th>\n",
       "      <td>Item-5</td>\n",
       "      <td>104.26</td>\n",
       "      <td>47.90</td>\n",
       "      <td>19.46</td>\n",
       "      <td>Op-1</td>\n",
       "    </tr>\n",
       "  </tbody>\n",
       "</table>\n",
       "</div>"
      ],
      "text/plain": [
       "  Item_No  Length  Width  Height Operator\n",
       "0  Item-1  102.67  49.53   19.69     Op-1\n",
       "1  Item-2  102.50  51.42   19.63     Op-1\n",
       "2  Item-3   95.37  52.25   21.51     Op-1\n",
       "3  Item-4   94.77  49.24   18.60     Op-1\n",
       "4  Item-5  104.26  47.90   19.46     Op-1"
      ]
     },
     "execution_count": 2,
     "metadata": {},
     "output_type": "execute_result"
    }
   ],
   "source": [
    "df = pd.read_csv('Piece_Dim.csv')\n",
    "df.head()"
   ]
  },
  {
   "cell_type": "code",
   "execution_count": 3,
   "id": "b25e682f",
   "metadata": {},
   "outputs": [
    {
     "data": {
      "image/png": "[encoded data removed]",
      "text/plain": [
       "<Figure size 640x480 with 1 Axes>"
      ]
     },
     "metadata": {},
     "output_type": "display_data"
    }
   ],
   "source": [
    "opers = ['Operator1', 'Operator2', 'Operator3']\n",
    "pieces = [50, 35, 70]\n",
    "plt.bar(opers, pieces)\n",
    "plt.show()"
   ]
  },
  {
   "cell_type": "code",
   "execution_count": 4,
   "id": "2c51857e",
   "metadata": {},
   "outputs": [
    {
     "data": {
      "text/html": [
       "<div>\n",
       "<style scoped>\n",
       "    .dataframe tbody tr th:only-of-type {\n",
       "        vertical-align: middle;\n",
       "    }\n",
       "\n",
       "    .dataframe tbody tr th {\n",
       "        vertical-align: top;\n",
       "    }\n",
       "\n",
       "    .dataframe thead th {\n",
       "        text-align: right;\n",
       "    }\n",
       "</style>\n",
       "<table border=\"1\" class=\"dataframe\">\n",
       "  <thead>\n",
       "    <tr style=\"text-align: right;\">\n",
       "      <th></th>\n",
       "      <th>Item_No</th>\n",
       "      <th>Length</th>\n",
       "      <th>Width</th>\n",
       "      <th>Height</th>\n",
       "      <th>Operator</th>\n",
       "    </tr>\n",
       "  </thead>\n",
       "  <tbody>\n",
       "    <tr>\n",
       "      <th>0</th>\n",
       "      <td>Item-1</td>\n",
       "      <td>102.67</td>\n",
       "      <td>49.53</td>\n",
       "      <td>19.69</td>\n",
       "      <td>Op-1</td>\n",
       "    </tr>\n",
       "    <tr>\n",
       "      <th>1</th>\n",
       "      <td>Item-2</td>\n",
       "      <td>102.50</td>\n",
       "      <td>51.42</td>\n",
       "      <td>19.63</td>\n",
       "      <td>Op-1</td>\n",
       "    </tr>\n",
       "    <tr>\n",
       "      <th>2</th>\n",
       "      <td>Item-3</td>\n",
       "      <td>95.37</td>\n",
       "      <td>52.25</td>\n",
       "      <td>21.51</td>\n",
       "      <td>Op-1</td>\n",
       "    </tr>\n",
       "    <tr>\n",
       "      <th>3</th>\n",
       "      <td>Item-4</td>\n",
       "      <td>94.77</td>\n",
       "      <td>49.24</td>\n",
       "      <td>18.60</td>\n",
       "      <td>Op-1</td>\n",
       "    </tr>\n",
       "    <tr>\n",
       "      <th>4</th>\n",
       "      <td>Item-5</td>\n",
       "      <td>104.26</td>\n",
       "      <td>47.90</td>\n",
       "      <td>19.46</td>\n",
       "      <td>Op-1</td>\n",
       "    </tr>\n",
       "  </tbody>\n",
       "</table>\n",
       "</div>"
      ],
      "text/plain": [
       "  Item_No  Length  Width  Height Operator\n",
       "0  Item-1  102.67  49.53   19.69     Op-1\n",
       "1  Item-2  102.50  51.42   19.63     Op-1\n",
       "2  Item-3   95.37  52.25   21.51     Op-1\n",
       "3  Item-4   94.77  49.24   18.60     Op-1\n",
       "4  Item-5  104.26  47.90   19.46     Op-1"
      ]
     },
     "execution_count": 4,
     "metadata": {},
     "output_type": "execute_result"
    }
   ],
   "source": [
    "df.head()"
   ]
  },
  {
   "cell_type": "code",
   "execution_count": 7,
   "id": "f0a09998",
   "metadata": {},
   "outputs": [
    {
     "data": {
      "text/html": [
       "<div>\n",
       "<style scoped>\n",
       "    .dataframe tbody tr th:only-of-type {\n",
       "        vertical-align: middle;\n",
       "    }\n",
       "\n",
       "    .dataframe tbody tr th {\n",
       "        vertical-align: top;\n",
       "    }\n",
       "\n",
       "    .dataframe thead th {\n",
       "        text-align: right;\n",
       "    }\n",
       "</style>\n",
       "<table border=\"1\" class=\"dataframe\">\n",
       "  <thead>\n",
       "    <tr style=\"text-align: right;\">\n",
       "      <th></th>\n",
       "      <th>Item_No</th>\n",
       "      <th>Length</th>\n",
       "      <th>Width</th>\n",
       "      <th>Height</th>\n",
       "      <th>Operator</th>\n",
       "    </tr>\n",
       "  </thead>\n",
       "  <tbody>\n",
       "    <tr>\n",
       "      <th>3</th>\n",
       "      <td>Item-4</td>\n",
       "      <td>94.77</td>\n",
       "      <td>49.24</td>\n",
       "      <td>18.60</td>\n",
       "      <td>Op-1</td>\n",
       "    </tr>\n",
       "    <tr>\n",
       "      <th>8</th>\n",
       "      <td>Item-9</td>\n",
       "      <td>90.62</td>\n",
       "      <td>47.29</td>\n",
       "      <td>19.78</td>\n",
       "      <td>Op-1</td>\n",
       "    </tr>\n",
       "    <tr>\n",
       "      <th>13</th>\n",
       "      <td>Item-14</td>\n",
       "      <td>89.82</td>\n",
       "      <td>45.98</td>\n",
       "      <td>20.30</td>\n",
       "      <td>Op-1</td>\n",
       "    </tr>\n",
       "    <tr>\n",
       "      <th>19</th>\n",
       "      <td>Item-20</td>\n",
       "      <td>94.31</td>\n",
       "      <td>48.74</td>\n",
       "      <td>18.80</td>\n",
       "      <td>Op-1</td>\n",
       "    </tr>\n",
       "    <tr>\n",
       "      <th>28</th>\n",
       "      <td>Item-29</td>\n",
       "      <td>93.54</td>\n",
       "      <td>51.05</td>\n",
       "      <td>19.29</td>\n",
       "      <td>Op-2</td>\n",
       "    </tr>\n",
       "    <tr>\n",
       "      <th>42</th>\n",
       "      <td>Item-43</td>\n",
       "      <td>92.52</td>\n",
       "      <td>49.04</td>\n",
       "      <td>19.92</td>\n",
       "      <td>Op-2</td>\n",
       "    </tr>\n",
       "    <tr>\n",
       "      <th>49</th>\n",
       "      <td>Item-50</td>\n",
       "      <td>93.28</td>\n",
       "      <td>48.08</td>\n",
       "      <td>19.64</td>\n",
       "      <td>Op-2</td>\n",
       "    </tr>\n",
       "  </tbody>\n",
       "</table>\n",
       "</div>"
      ],
      "text/plain": [
       "    Item_No  Length  Width  Height Operator\n",
       "3    Item-4   94.77  49.24   18.60     Op-1\n",
       "8    Item-9   90.62  47.29   19.78     Op-1\n",
       "13  Item-14   89.82  45.98   20.30     Op-1\n",
       "19  Item-20   94.31  48.74   18.80     Op-1\n",
       "28  Item-29   93.54  51.05   19.29     Op-2\n",
       "42  Item-43   92.52  49.04   19.92     Op-2\n",
       "49  Item-50   93.28  48.08   19.64     Op-2"
      ]
     },
     "execution_count": 7,
     "metadata": {},
     "output_type": "execute_result"
    }
   ],
   "source": [
    "lowl = df[df['Length'] < 95]\n",
    "lowl"
   ]
  },
  {
   "cell_type": "code",
   "execution_count": 11,
   "id": "9fd5596d",
   "metadata": {},
   "outputs": [
    {
     "data": {
      "text/plain": [
       "32"
      ]
     },
     "execution_count": 11,
     "metadata": {},
     "output_type": "execute_result"
    }
   ],
   "source": [
    "lowl = df[df['Length'] < 95]['Length'].count()\n",
    "highl = df[df['Length'] > 105]['Length'].count()\n",
    "medl = df[(df['Length'] >= 95) & (df['Length'] <= 105)]['Length'].count()\n",
    "medl"
   ]
  },
  {
   "cell_type": "code",
   "execution_count": 12,
   "id": "8c9c3fe4",
   "metadata": {},
   "outputs": [],
   "source": [
    "sizel = [lowl, highl, medl]      # In Y axis I want the above 3 counts\n",
    "groupl = ['<95', 'Between 95 and 105', '>105']       #  In X axis I need to make three groups"
   ]
  },
  {
   "cell_type": "code",
   "execution_count": 18,
   "id": "01cca43a",
   "metadata": {},
   "outputs": [
    {
     "data": {
      "image/png": "[encoded data removed]",
      "text/plain": [
       "<Figure size 640x480 with 1 Axes>"
      ]
     },
     "metadata": {},
     "output_type": "display_data"
    }
   ],
   "source": [
    "plt.bar(groupl, sizel)\n",
    "plt.savefig('MyBoxPlot.jpg', dpi=300)  # dpi will increase the image size"
   ]
  },
  {
   "cell_type": "code",
   "execution_count": 9,
   "id": "67d6d165",
   "metadata": {},
   "outputs": [
    {
     "data": {
      "text/plain": [
       "648.86"
      ]
     },
     "execution_count": 9,
     "metadata": {},
     "output_type": "execute_result"
    }
   ],
   "source": [
    "lowl = df[df['Length'] < 95]['Length'].sum()\n",
    "lowl"
   ]
  },
  {
   "cell_type": "code",
   "execution_count": 15,
   "id": "e21e6bde",
   "metadata": {},
   "outputs": [
    {
     "data": {
      "text/plain": [
       "'C:\\\\Users\\\\USER\\\\Desktop\\\\UDEMY\\\\Statistics for Data Analysis Using Python'"
      ]
     },
     "execution_count": 15,
     "metadata": {},
     "output_type": "execute_result"
    }
   ],
   "source": [
    "pwd\n"
   ]
  },
  {
   "cell_type": "code",
   "execution_count": null,
   "id": "2ca7cf7d",
   "metadata": {},
   "outputs": [],
   "source": []
  }
 ],
 "metadata": {
  "kernelspec": {
   "display_name": "Python 3 (ipykernel)",
   "language": "python",
   "name": "python3"
  },
  "language_info": {
   "codemirror_mode": {
    "name": "ipython",
    "version": 3
   },
   "file_extension": ".py",
   "mimetype": "text/x-python",
   "name": "python",
   "nbconvert_exporter": "python",
   "pygments_lexer": "ipython3",
   "version": "3.9.13"
  }
 },
 "nbformat": 4,
 "nbformat_minor": 5
}
