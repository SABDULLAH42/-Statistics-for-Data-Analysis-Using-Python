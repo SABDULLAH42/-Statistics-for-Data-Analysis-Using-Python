{
 "cells": [
  {
   "cell_type": "code",
   "execution_count": 4,
   "id": "2f1c1d61",
   "metadata": {},
   "outputs": [],
   "source": [
    "import numpy as np\n",
    "import pandas as pd\n",
    "import matplotlib.pyplot as plt\n",
    "import seaborn as sns\n",
    "import scipy.stats as stats\n",
    "import statsmodels.stats.oneway as oneway"
   ]
  },
  {
   "cell_type": "code",
   "execution_count": 2,
   "id": "21b09b7e",
   "metadata": {},
   "outputs": [],
   "source": [
    "m1 = [150, 151, 152, 152, 151, 150]\n",
    "m2 = [153, 152, 148, 151, 149, 152]\n",
    "m3 = [156, 154, 155, 156, 157, 155]"
   ]
  },
  {
   "cell_type": "code",
   "execution_count": 3,
   "id": "27130f56",
   "metadata": {},
   "outputs": [
    {
     "data": {
      "text/plain": [
       "F_onewayResult(statistic=22.264705882352935, pvalue=3.2374085509077445e-05)"
      ]
     },
     "execution_count": 3,
     "metadata": {},
     "output_type": "execute_result"
    }
   ],
   "source": [
    "stats.f_oneway(m1, m2, m3)"
   ]
  },
  {
   "cell_type": "code",
   "execution_count": null,
   "id": "04263fbb",
   "metadata": {},
   "outputs": [],
   "source": [
    "Since the p value is very small, smaller than 0.05 hence we conclude that\n",
    "there is at least one machine which is different from others"
   ]
  },
  {
   "cell_type": "code",
   "execution_count": 6,
   "id": "95c1c816",
   "metadata": {},
   "outputs": [
    {
     "data": {
      "text/plain": [
       "<class 'statsmodels.stats.base.HolderTuple'>\n",
       "statistic = 22.264705882352892\n",
       "pvalue = 3.237408550907782e-05\n",
       "df = (2.0, 15.0)\n",
       "df_num = 2.0\n",
       "df_denom = 15.0\n",
       "nobs_t = 18.0\n",
       "n_groups = 3\n",
       "means = array([151.        , 150.83333333, 155.5       ])\n",
       "nobs = array([6., 6., 6.])\n",
       "vars_ = array([0.8       , 3.76666667, 1.1       ])\n",
       "use_var = 'equal'\n",
       "welch_correction = True\n",
       "tuple = (22.264705882352892, 3.237408550907782e-05)"
      ]
     },
     "execution_count": 6,
     "metadata": {},
     "output_type": "execute_result"
    }
   ],
   "source": [
    "oneway.anova_oneway((m1, m2, m3), use_var = 'equal')"
   ]
  },
  {
   "cell_type": "markdown",
   "id": "f60dad61",
   "metadata": {},
   "source": [
    "## Comparing cars mpg from three countries"
   ]
  },
  {
   "cell_type": "code",
   "execution_count": 14,
   "id": "8c044490",
   "metadata": {},
   "outputs": [
    {
     "data": {
      "text/plain": [
       "['anagrams',\n",
       " 'anscombe',\n",
       " 'attention',\n",
       " 'brain_networks',\n",
       " 'car_crashes',\n",
       " 'diamonds',\n",
       " 'dots',\n",
       " 'dowjones',\n",
       " 'exercise',\n",
       " 'flights',\n",
       " 'fmri',\n",
       " 'geyser',\n",
       " 'glue',\n",
       " 'healthexp',\n",
       " 'iris',\n",
       " 'mpg',\n",
       " 'penguins',\n",
       " 'planets',\n",
       " 'seaice',\n",
       " 'taxis',\n",
       " 'tips',\n",
       " 'titanic']"
      ]
     },
     "execution_count": 14,
     "metadata": {},
     "output_type": "execute_result"
    }
   ],
   "source": [
    "sns.get_dataset_names()"
   ]
  },
  {
   "cell_type": "code",
   "execution_count": 15,
   "id": "6f194f08",
   "metadata": {},
   "outputs": [],
   "source": [
    "mpg = sns.load_dataset('mpg')"
   ]
  },
  {
   "cell_type": "code",
   "execution_count": 16,
   "id": "a5758b5d",
   "metadata": {},
   "outputs": [
    {
     "data": {
      "text/html": [
       "<div>\n",
       "<style scoped>\n",
       "    .dataframe tbody tr th:only-of-type {\n",
       "        vertical-align: middle;\n",
       "    }\n",
       "\n",
       "    .dataframe tbody tr th {\n",
       "        vertical-align: top;\n",
       "    }\n",
       "\n",
       "    .dataframe thead th {\n",
       "        text-align: right;\n",
       "    }\n",
       "</style>\n",
       "<table border=\"1\" class=\"dataframe\">\n",
       "  <thead>\n",
       "    <tr style=\"text-align: right;\">\n",
       "      <th></th>\n",
       "      <th>mpg</th>\n",
       "      <th>cylinders</th>\n",
       "      <th>displacement</th>\n",
       "      <th>horsepower</th>\n",
       "      <th>weight</th>\n",
       "      <th>acceleration</th>\n",
       "      <th>model_year</th>\n",
       "      <th>origin</th>\n",
       "      <th>name</th>\n",
       "    </tr>\n",
       "  </thead>\n",
       "  <tbody>\n",
       "    <tr>\n",
       "      <th>0</th>\n",
       "      <td>18.0</td>\n",
       "      <td>8</td>\n",
       "      <td>307.0</td>\n",
       "      <td>130.0</td>\n",
       "      <td>3504</td>\n",
       "      <td>12.0</td>\n",
       "      <td>70</td>\n",
       "      <td>usa</td>\n",
       "      <td>chevrolet chevelle malibu</td>\n",
       "    </tr>\n",
       "    <tr>\n",
       "      <th>1</th>\n",
       "      <td>15.0</td>\n",
       "      <td>8</td>\n",
       "      <td>350.0</td>\n",
       "      <td>165.0</td>\n",
       "      <td>3693</td>\n",
       "      <td>11.5</td>\n",
       "      <td>70</td>\n",
       "      <td>usa</td>\n",
       "      <td>buick skylark 320</td>\n",
       "    </tr>\n",
       "    <tr>\n",
       "      <th>2</th>\n",
       "      <td>18.0</td>\n",
       "      <td>8</td>\n",
       "      <td>318.0</td>\n",
       "      <td>150.0</td>\n",
       "      <td>3436</td>\n",
       "      <td>11.0</td>\n",
       "      <td>70</td>\n",
       "      <td>usa</td>\n",
       "      <td>plymouth satellite</td>\n",
       "    </tr>\n",
       "    <tr>\n",
       "      <th>3</th>\n",
       "      <td>16.0</td>\n",
       "      <td>8</td>\n",
       "      <td>304.0</td>\n",
       "      <td>150.0</td>\n",
       "      <td>3433</td>\n",
       "      <td>12.0</td>\n",
       "      <td>70</td>\n",
       "      <td>usa</td>\n",
       "      <td>amc rebel sst</td>\n",
       "    </tr>\n",
       "    <tr>\n",
       "      <th>4</th>\n",
       "      <td>17.0</td>\n",
       "      <td>8</td>\n",
       "      <td>302.0</td>\n",
       "      <td>140.0</td>\n",
       "      <td>3449</td>\n",
       "      <td>10.5</td>\n",
       "      <td>70</td>\n",
       "      <td>usa</td>\n",
       "      <td>ford torino</td>\n",
       "    </tr>\n",
       "  </tbody>\n",
       "</table>\n",
       "</div>"
      ],
      "text/plain": [
       "    mpg  cylinders  displacement  horsepower  weight  acceleration  \\\n",
       "0  18.0          8         307.0       130.0    3504          12.0   \n",
       "1  15.0          8         350.0       165.0    3693          11.5   \n",
       "2  18.0          8         318.0       150.0    3436          11.0   \n",
       "3  16.0          8         304.0       150.0    3433          12.0   \n",
       "4  17.0          8         302.0       140.0    3449          10.5   \n",
       "\n",
       "   model_year origin                       name  \n",
       "0          70    usa  chevrolet chevelle malibu  \n",
       "1          70    usa          buick skylark 320  \n",
       "2          70    usa         plymouth satellite  \n",
       "3          70    usa              amc rebel sst  \n",
       "4          70    usa                ford torino  "
      ]
     },
     "execution_count": 16,
     "metadata": {},
     "output_type": "execute_result"
    }
   ],
   "source": [
    "mpg.head()"
   ]
  },
  {
   "cell_type": "code",
   "execution_count": 34,
   "id": "e99b83e5",
   "metadata": {},
   "outputs": [
    {
     "data": {
      "text/html": [
       "<div>\n",
       "<style scoped>\n",
       "    .dataframe tbody tr th:only-of-type {\n",
       "        vertical-align: middle;\n",
       "    }\n",
       "\n",
       "    .dataframe tbody tr th {\n",
       "        vertical-align: top;\n",
       "    }\n",
       "\n",
       "    .dataframe thead th {\n",
       "        text-align: right;\n",
       "    }\n",
       "</style>\n",
       "<table border=\"1\" class=\"dataframe\">\n",
       "  <thead>\n",
       "    <tr style=\"text-align: right;\">\n",
       "      <th></th>\n",
       "      <th>mpg</th>\n",
       "      <th>cylinders</th>\n",
       "      <th>displacement</th>\n",
       "      <th>horsepower</th>\n",
       "      <th>weight</th>\n",
       "      <th>acceleration</th>\n",
       "      <th>model_year</th>\n",
       "      <th>name</th>\n",
       "    </tr>\n",
       "    <tr>\n",
       "      <th>origin</th>\n",
       "      <th></th>\n",
       "      <th></th>\n",
       "      <th></th>\n",
       "      <th></th>\n",
       "      <th></th>\n",
       "      <th></th>\n",
       "      <th></th>\n",
       "      <th></th>\n",
       "    </tr>\n",
       "  </thead>\n",
       "  <tbody>\n",
       "    <tr>\n",
       "      <th>europe</th>\n",
       "      <td>1952.4</td>\n",
       "      <td>291</td>\n",
       "      <td>7640.0</td>\n",
       "      <td>5478.0</td>\n",
       "      <td>169631</td>\n",
       "      <td>1175.1</td>\n",
       "      <td>5307</td>\n",
       "      <td>volkswagen 1131 deluxe sedanpeugeot 504audi 10...</td>\n",
       "    </tr>\n",
       "    <tr>\n",
       "      <th>japan</th>\n",
       "      <td>2405.6</td>\n",
       "      <td>324</td>\n",
       "      <td>8114.0</td>\n",
       "      <td>6307.0</td>\n",
       "      <td>175477</td>\n",
       "      <td>1277.6</td>\n",
       "      <td>6118</td>\n",
       "      <td>toyota corona mark iidatsun pl510datsun pl510t...</td>\n",
       "    </tr>\n",
       "    <tr>\n",
       "      <th>usa</th>\n",
       "      <td>5000.8</td>\n",
       "      <td>1556</td>\n",
       "      <td>61229.5</td>\n",
       "      <td>29167.0</td>\n",
       "      <td>837121</td>\n",
       "      <td>3743.4</td>\n",
       "      <td>18827</td>\n",
       "      <td>chevrolet chevelle malibubuick skylark 320plym...</td>\n",
       "    </tr>\n",
       "  </tbody>\n",
       "</table>\n",
       "</div>"
      ],
      "text/plain": [
       "           mpg  cylinders  displacement  horsepower  weight  acceleration  \\\n",
       "origin                                                                      \n",
       "europe  1952.4        291        7640.0      5478.0  169631        1175.1   \n",
       "japan   2405.6        324        8114.0      6307.0  175477        1277.6   \n",
       "usa     5000.8       1556       61229.5     29167.0  837121        3743.4   \n",
       "\n",
       "        model_year                                               name  \n",
       "origin                                                                 \n",
       "europe        5307  volkswagen 1131 deluxe sedanpeugeot 504audi 10...  \n",
       "japan         6118  toyota corona mark iidatsun pl510datsun pl510t...  \n",
       "usa          18827  chevrolet chevelle malibubuick skylark 320plym...  "
      ]
     },
     "execution_count": 34,
     "metadata": {},
     "output_type": "execute_result"
    }
   ],
   "source": [
    "mpg.groupby('origin').aggregate('sum')"
   ]
  },
  {
   "cell_type": "markdown",
   "id": "6d2dada9",
   "metadata": {},
   "source": [
    "## Finding the Mean"
   ]
  },
  {
   "cell_type": "code",
   "execution_count": 38,
   "id": "073508af",
   "metadata": {},
   "outputs": [
    {
     "data": {
      "text/html": [
       "<div>\n",
       "<style scoped>\n",
       "    .dataframe tbody tr th:only-of-type {\n",
       "        vertical-align: middle;\n",
       "    }\n",
       "\n",
       "    .dataframe tbody tr th {\n",
       "        vertical-align: top;\n",
       "    }\n",
       "\n",
       "    .dataframe thead th {\n",
       "        text-align: right;\n",
       "    }\n",
       "</style>\n",
       "<table border=\"1\" class=\"dataframe\">\n",
       "  <thead>\n",
       "    <tr style=\"text-align: right;\">\n",
       "      <th></th>\n",
       "      <th>mpg</th>\n",
       "      <th>cylinders</th>\n",
       "      <th>displacement</th>\n",
       "      <th>horsepower</th>\n",
       "      <th>weight</th>\n",
       "      <th>acceleration</th>\n",
       "      <th>model_year</th>\n",
       "    </tr>\n",
       "    <tr>\n",
       "      <th>origin</th>\n",
       "      <th></th>\n",
       "      <th></th>\n",
       "      <th></th>\n",
       "      <th></th>\n",
       "      <th></th>\n",
       "      <th></th>\n",
       "      <th></th>\n",
       "    </tr>\n",
       "  </thead>\n",
       "  <tbody>\n",
       "    <tr>\n",
       "      <th>europe</th>\n",
       "      <td>27.891429</td>\n",
       "      <td>4.157143</td>\n",
       "      <td>109.142857</td>\n",
       "      <td>80.558824</td>\n",
       "      <td>2423.300000</td>\n",
       "      <td>16.787143</td>\n",
       "      <td>75.814286</td>\n",
       "    </tr>\n",
       "    <tr>\n",
       "      <th>japan</th>\n",
       "      <td>30.450633</td>\n",
       "      <td>4.101266</td>\n",
       "      <td>102.708861</td>\n",
       "      <td>79.835443</td>\n",
       "      <td>2221.227848</td>\n",
       "      <td>16.172152</td>\n",
       "      <td>77.443038</td>\n",
       "    </tr>\n",
       "    <tr>\n",
       "      <th>usa</th>\n",
       "      <td>20.083534</td>\n",
       "      <td>6.248996</td>\n",
       "      <td>245.901606</td>\n",
       "      <td>119.048980</td>\n",
       "      <td>3361.931727</td>\n",
       "      <td>15.033735</td>\n",
       "      <td>75.610442</td>\n",
       "    </tr>\n",
       "  </tbody>\n",
       "</table>\n",
       "</div>"
      ],
      "text/plain": [
       "              mpg  cylinders  displacement  horsepower       weight  \\\n",
       "origin                                                                \n",
       "europe  27.891429   4.157143    109.142857   80.558824  2423.300000   \n",
       "japan   30.450633   4.101266    102.708861   79.835443  2221.227848   \n",
       "usa     20.083534   6.248996    245.901606  119.048980  3361.931727   \n",
       "\n",
       "        acceleration  model_year  \n",
       "origin                            \n",
       "europe     16.787143   75.814286  \n",
       "japan      16.172152   77.443038  \n",
       "usa        15.033735   75.610442  "
      ]
     },
     "execution_count": 38,
     "metadata": {},
     "output_type": "execute_result"
    }
   ],
   "source": [
    "mpg.groupby('origin').mean(numeric_only=True)     # only take numeric data not string"
   ]
  },
  {
   "cell_type": "markdown",
   "id": "8b9084b7",
   "metadata": {},
   "source": [
    "## We just focus on average of mpg not all the columns"
   ]
  },
  {
   "cell_type": "code",
   "execution_count": 39,
   "id": "e595ece8",
   "metadata": {},
   "outputs": [
    {
     "data": {
      "text/plain": [
       "origin\n",
       "europe    27.891429\n",
       "japan     30.450633\n",
       "usa       20.083534\n",
       "Name: mpg, dtype: float64"
      ]
     },
     "execution_count": 39,
     "metadata": {},
     "output_type": "execute_result"
    }
   ],
   "source": [
    "mpg.groupby('origin').mean(numeric_only=True)['mpg']"
   ]
  },
  {
   "cell_type": "markdown",
   "id": "465047e4",
   "metadata": {},
   "source": [
    "## I will just filter out the data set to get only those cars which are four cylinders"
   ]
  },
  {
   "cell_type": "code",
   "execution_count": 46,
   "id": "e95a330e",
   "metadata": {},
   "outputs": [
    {
     "data": {
      "text/html": [
       "<div>\n",
       "<style scoped>\n",
       "    .dataframe tbody tr th:only-of-type {\n",
       "        vertical-align: middle;\n",
       "    }\n",
       "\n",
       "    .dataframe tbody tr th {\n",
       "        vertical-align: top;\n",
       "    }\n",
       "\n",
       "    .dataframe thead th {\n",
       "        text-align: right;\n",
       "    }\n",
       "</style>\n",
       "<table border=\"1\" class=\"dataframe\">\n",
       "  <thead>\n",
       "    <tr style=\"text-align: right;\">\n",
       "      <th></th>\n",
       "      <th></th>\n",
       "      <th>mpg</th>\n",
       "      <th>displacement</th>\n",
       "      <th>horsepower</th>\n",
       "      <th>weight</th>\n",
       "      <th>acceleration</th>\n",
       "      <th>model_year</th>\n",
       "    </tr>\n",
       "    <tr>\n",
       "      <th>origin</th>\n",
       "      <th>cylinders</th>\n",
       "      <th></th>\n",
       "      <th></th>\n",
       "      <th></th>\n",
       "      <th></th>\n",
       "      <th></th>\n",
       "      <th></th>\n",
       "    </tr>\n",
       "  </thead>\n",
       "  <tbody>\n",
       "    <tr>\n",
       "      <th rowspan=\"3\" valign=\"top\">europe</th>\n",
       "      <th>4</th>\n",
       "      <td>28.411111</td>\n",
       "      <td>104.222222</td>\n",
       "      <td>78.311475</td>\n",
       "      <td>2330.015873</td>\n",
       "      <td>16.722222</td>\n",
       "      <td>75.507937</td>\n",
       "    </tr>\n",
       "    <tr>\n",
       "      <th>5</th>\n",
       "      <td>27.366667</td>\n",
       "      <td>145.000000</td>\n",
       "      <td>82.333333</td>\n",
       "      <td>3103.333333</td>\n",
       "      <td>18.633333</td>\n",
       "      <td>79.000000</td>\n",
       "    </tr>\n",
       "    <tr>\n",
       "      <th>6</th>\n",
       "      <td>20.100000</td>\n",
       "      <td>159.750000</td>\n",
       "      <td>113.500000</td>\n",
       "      <td>3382.500000</td>\n",
       "      <td>16.425000</td>\n",
       "      <td>78.250000</td>\n",
       "    </tr>\n",
       "    <tr>\n",
       "      <th rowspan=\"3\" valign=\"top\">japan</th>\n",
       "      <th>3</th>\n",
       "      <td>20.550000</td>\n",
       "      <td>72.500000</td>\n",
       "      <td>99.250000</td>\n",
       "      <td>2398.500000</td>\n",
       "      <td>13.250000</td>\n",
       "      <td>75.500000</td>\n",
       "    </tr>\n",
       "    <tr>\n",
       "      <th>4</th>\n",
       "      <td>31.595652</td>\n",
       "      <td>99.768116</td>\n",
       "      <td>75.579710</td>\n",
       "      <td>2153.492754</td>\n",
       "      <td>16.569565</td>\n",
       "      <td>77.507246</td>\n",
       "    </tr>\n",
       "    <tr>\n",
       "      <th>6</th>\n",
       "      <td>23.883333</td>\n",
       "      <td>156.666667</td>\n",
       "      <td>115.833333</td>\n",
       "      <td>2882.000000</td>\n",
       "      <td>13.550000</td>\n",
       "      <td>78.000000</td>\n",
       "    </tr>\n",
       "    <tr>\n",
       "      <th rowspan=\"3\" valign=\"top\">usa</th>\n",
       "      <th>4</th>\n",
       "      <td>27.840278</td>\n",
       "      <td>124.284722</td>\n",
       "      <td>80.956522</td>\n",
       "      <td>2437.166667</td>\n",
       "      <td>16.526389</td>\n",
       "      <td>78.027778</td>\n",
       "    </tr>\n",
       "    <tr>\n",
       "      <th>6</th>\n",
       "      <td>19.663514</td>\n",
       "      <td>226.283784</td>\n",
       "      <td>99.671233</td>\n",
       "      <td>3213.905405</td>\n",
       "      <td>16.474324</td>\n",
       "      <td>75.635135</td>\n",
       "    </tr>\n",
       "    <tr>\n",
       "      <th>8</th>\n",
       "      <td>14.963107</td>\n",
       "      <td>345.009709</td>\n",
       "      <td>158.300971</td>\n",
       "      <td>4114.718447</td>\n",
       "      <td>12.955340</td>\n",
       "      <td>73.902913</td>\n",
       "    </tr>\n",
       "  </tbody>\n",
       "</table>\n",
       "</div>"
      ],
      "text/plain": [
       "                        mpg  displacement  horsepower       weight  \\\n",
       "origin cylinders                                                     \n",
       "europe 4          28.411111    104.222222   78.311475  2330.015873   \n",
       "       5          27.366667    145.000000   82.333333  3103.333333   \n",
       "       6          20.100000    159.750000  113.500000  3382.500000   \n",
       "japan  3          20.550000     72.500000   99.250000  2398.500000   \n",
       "       4          31.595652     99.768116   75.579710  2153.492754   \n",
       "       6          23.883333    156.666667  115.833333  2882.000000   \n",
       "usa    4          27.840278    124.284722   80.956522  2437.166667   \n",
       "       6          19.663514    226.283784   99.671233  3213.905405   \n",
       "       8          14.963107    345.009709  158.300971  4114.718447   \n",
       "\n",
       "                  acceleration  model_year  \n",
       "origin cylinders                            \n",
       "europe 4             16.722222   75.507937  \n",
       "       5             18.633333   79.000000  \n",
       "       6             16.425000   78.250000  \n",
       "japan  3             13.250000   75.500000  \n",
       "       4             16.569565   77.507246  \n",
       "       6             13.550000   78.000000  \n",
       "usa    4             16.526389   78.027778  \n",
       "       6             16.474324   75.635135  \n",
       "       8             12.955340   73.902913  "
      ]
     },
     "execution_count": 46,
     "metadata": {},
     "output_type": "execute_result"
    }
   ],
   "source": [
    "mpg.groupby(['origin', 'cylinders']).mean(numeric_only=True)"
   ]
  },
  {
   "cell_type": "code",
   "execution_count": 64,
   "id": "9d9f8fdf",
   "metadata": {},
   "outputs": [
    {
     "data": {
      "text/plain": [
       "<seaborn.axisgrid.FacetGrid at 0x163ec960520>"
      ]
     },
     "execution_count": 64,
     "metadata": {},
     "output_type": "execute_result"
    },
    {
     "data": {
      "image/png": "[encoded data removed]",
      "text/plain": [
       "<Figure size 511.111x500 with 1 Axes>"
      ]
     },
     "metadata": {},
     "output_type": "display_data"
    }
   ],
   "source": [
    "sns.catplot(data=mpg, x='origin', y='mpg')   # This is the box and whisker plot for all types of cars"
   ]
  },
  {
   "cell_type": "markdown",
   "id": "0adad22d",
   "metadata": {},
   "source": [
    "## I wanted only those cars which are the 4 cylinders"
   ]
  },
  {
   "cell_type": "code",
   "execution_count": 50,
   "id": "546704de",
   "metadata": {},
   "outputs": [
    {
     "data": {
      "text/html": [
       "<div>\n",
       "<style scoped>\n",
       "    .dataframe tbody tr th:only-of-type {\n",
       "        vertical-align: middle;\n",
       "    }\n",
       "\n",
       "    .dataframe tbody tr th {\n",
       "        vertical-align: top;\n",
       "    }\n",
       "\n",
       "    .dataframe thead th {\n",
       "        text-align: right;\n",
       "    }\n",
       "</style>\n",
       "<table border=\"1\" class=\"dataframe\">\n",
       "  <thead>\n",
       "    <tr style=\"text-align: right;\">\n",
       "      <th></th>\n",
       "      <th>mpg</th>\n",
       "      <th>cylinders</th>\n",
       "      <th>displacement</th>\n",
       "      <th>horsepower</th>\n",
       "      <th>weight</th>\n",
       "      <th>acceleration</th>\n",
       "      <th>model_year</th>\n",
       "      <th>origin</th>\n",
       "      <th>name</th>\n",
       "    </tr>\n",
       "  </thead>\n",
       "  <tbody>\n",
       "    <tr>\n",
       "      <th>14</th>\n",
       "      <td>24.0</td>\n",
       "      <td>4</td>\n",
       "      <td>113.0</td>\n",
       "      <td>95.0</td>\n",
       "      <td>2372</td>\n",
       "      <td>15.0</td>\n",
       "      <td>70</td>\n",
       "      <td>japan</td>\n",
       "      <td>toyota corona mark ii</td>\n",
       "    </tr>\n",
       "    <tr>\n",
       "      <th>18</th>\n",
       "      <td>27.0</td>\n",
       "      <td>4</td>\n",
       "      <td>97.0</td>\n",
       "      <td>88.0</td>\n",
       "      <td>2130</td>\n",
       "      <td>14.5</td>\n",
       "      <td>70</td>\n",
       "      <td>japan</td>\n",
       "      <td>datsun pl510</td>\n",
       "    </tr>\n",
       "    <tr>\n",
       "      <th>19</th>\n",
       "      <td>26.0</td>\n",
       "      <td>4</td>\n",
       "      <td>97.0</td>\n",
       "      <td>46.0</td>\n",
       "      <td>1835</td>\n",
       "      <td>20.5</td>\n",
       "      <td>70</td>\n",
       "      <td>europe</td>\n",
       "      <td>volkswagen 1131 deluxe sedan</td>\n",
       "    </tr>\n",
       "    <tr>\n",
       "      <th>20</th>\n",
       "      <td>25.0</td>\n",
       "      <td>4</td>\n",
       "      <td>110.0</td>\n",
       "      <td>87.0</td>\n",
       "      <td>2672</td>\n",
       "      <td>17.5</td>\n",
       "      <td>70</td>\n",
       "      <td>europe</td>\n",
       "      <td>peugeot 504</td>\n",
       "    </tr>\n",
       "    <tr>\n",
       "      <th>21</th>\n",
       "      <td>24.0</td>\n",
       "      <td>4</td>\n",
       "      <td>107.0</td>\n",
       "      <td>90.0</td>\n",
       "      <td>2430</td>\n",
       "      <td>14.5</td>\n",
       "      <td>70</td>\n",
       "      <td>europe</td>\n",
       "      <td>audi 100 ls</td>\n",
       "    </tr>\n",
       "    <tr>\n",
       "      <th>...</th>\n",
       "      <td>...</td>\n",
       "      <td>...</td>\n",
       "      <td>...</td>\n",
       "      <td>...</td>\n",
       "      <td>...</td>\n",
       "      <td>...</td>\n",
       "      <td>...</td>\n",
       "      <td>...</td>\n",
       "      <td>...</td>\n",
       "    </tr>\n",
       "    <tr>\n",
       "      <th>393</th>\n",
       "      <td>27.0</td>\n",
       "      <td>4</td>\n",
       "      <td>140.0</td>\n",
       "      <td>86.0</td>\n",
       "      <td>2790</td>\n",
       "      <td>15.6</td>\n",
       "      <td>82</td>\n",
       "      <td>usa</td>\n",
       "      <td>ford mustang gl</td>\n",
       "    </tr>\n",
       "    <tr>\n",
       "      <th>394</th>\n",
       "      <td>44.0</td>\n",
       "      <td>4</td>\n",
       "      <td>97.0</td>\n",
       "      <td>52.0</td>\n",
       "      <td>2130</td>\n",
       "      <td>24.6</td>\n",
       "      <td>82</td>\n",
       "      <td>europe</td>\n",
       "      <td>vw pickup</td>\n",
       "    </tr>\n",
       "    <tr>\n",
       "      <th>395</th>\n",
       "      <td>32.0</td>\n",
       "      <td>4</td>\n",
       "      <td>135.0</td>\n",
       "      <td>84.0</td>\n",
       "      <td>2295</td>\n",
       "      <td>11.6</td>\n",
       "      <td>82</td>\n",
       "      <td>usa</td>\n",
       "      <td>dodge rampage</td>\n",
       "    </tr>\n",
       "    <tr>\n",
       "      <th>396</th>\n",
       "      <td>28.0</td>\n",
       "      <td>4</td>\n",
       "      <td>120.0</td>\n",
       "      <td>79.0</td>\n",
       "      <td>2625</td>\n",
       "      <td>18.6</td>\n",
       "      <td>82</td>\n",
       "      <td>usa</td>\n",
       "      <td>ford ranger</td>\n",
       "    </tr>\n",
       "    <tr>\n",
       "      <th>397</th>\n",
       "      <td>31.0</td>\n",
       "      <td>4</td>\n",
       "      <td>119.0</td>\n",
       "      <td>82.0</td>\n",
       "      <td>2720</td>\n",
       "      <td>19.4</td>\n",
       "      <td>82</td>\n",
       "      <td>usa</td>\n",
       "      <td>chevy s-10</td>\n",
       "    </tr>\n",
       "  </tbody>\n",
       "</table>\n",
       "<p>204 rows × 9 columns</p>\n",
       "</div>"
      ],
      "text/plain": [
       "      mpg  cylinders  displacement  horsepower  weight  acceleration  \\\n",
       "14   24.0          4         113.0        95.0    2372          15.0   \n",
       "18   27.0          4          97.0        88.0    2130          14.5   \n",
       "19   26.0          4          97.0        46.0    1835          20.5   \n",
       "20   25.0          4         110.0        87.0    2672          17.5   \n",
       "21   24.0          4         107.0        90.0    2430          14.5   \n",
       "..    ...        ...           ...         ...     ...           ...   \n",
       "393  27.0          4         140.0        86.0    2790          15.6   \n",
       "394  44.0          4          97.0        52.0    2130          24.6   \n",
       "395  32.0          4         135.0        84.0    2295          11.6   \n",
       "396  28.0          4         120.0        79.0    2625          18.6   \n",
       "397  31.0          4         119.0        82.0    2720          19.4   \n",
       "\n",
       "     model_year  origin                          name  \n",
       "14           70   japan         toyota corona mark ii  \n",
       "18           70   japan                  datsun pl510  \n",
       "19           70  europe  volkswagen 1131 deluxe sedan  \n",
       "20           70  europe                   peugeot 504  \n",
       "21           70  europe                   audi 100 ls  \n",
       "..          ...     ...                           ...  \n",
       "393          82     usa               ford mustang gl  \n",
       "394          82  europe                     vw pickup  \n",
       "395          82     usa                 dodge rampage  \n",
       "396          82     usa                   ford ranger  \n",
       "397          82     usa                    chevy s-10  \n",
       "\n",
       "[204 rows x 9 columns]"
      ]
     },
     "execution_count": 50,
     "metadata": {},
     "output_type": "execute_result"
    }
   ],
   "source": [
    "mpg[mpg['cylinders']==4]"
   ]
  },
  {
   "cell_type": "markdown",
   "id": "02e9fa29",
   "metadata": {},
   "source": [
    "## Now filtering out the mpg column with 4 cylinders"
   ]
  },
  {
   "cell_type": "code",
   "execution_count": 51,
   "id": "3faacf55",
   "metadata": {},
   "outputs": [
    {
     "data": {
      "text/plain": [
       "14     24.0\n",
       "18     27.0\n",
       "19     26.0\n",
       "20     25.0\n",
       "21     24.0\n",
       "       ... \n",
       "393    27.0\n",
       "394    44.0\n",
       "395    32.0\n",
       "396    28.0\n",
       "397    31.0\n",
       "Name: mpg, Length: 204, dtype: float64"
      ]
     },
     "execution_count": 51,
     "metadata": {},
     "output_type": "execute_result"
    }
   ],
   "source": [
    "mpg[mpg['cylinders']==4] ['mpg']"
   ]
  },
  {
   "cell_type": "code",
   "execution_count": 63,
   "id": "c0ec91e8",
   "metadata": {},
   "outputs": [
    {
     "data": {
      "text/plain": [
       "<seaborn.axisgrid.FacetGrid at 0x163ed203760>"
      ]
     },
     "execution_count": 63,
     "metadata": {},
     "output_type": "execute_result"
    },
    {
     "data": {
      "image/png": "[encoded data removed]",
      "text/plain": [
       "<Figure size 511.111x500 with 1 Axes>"
      ]
     },
     "metadata": {},
     "output_type": "display_data"
    }
   ],
   "source": [
    "sns.catplot(data=mpg, x='origin', y=mpg[mpg['cylinders']==4] ['mpg'], kind='box')"
   ]
  },
  {
   "cell_type": "code",
   "execution_count": 60,
   "id": "772d4bcc",
   "metadata": {},
   "outputs": [],
   "source": [
    "eu = mpg[(mpg['cylinders'] ==4) & (mpg['origin'] == 'europe')] ['mpg']\n",
    "jp = mpg[(mpg['cylinders'] ==4) & (mpg['origin'] == 'japan')] ['mpg']\n",
    "us = mpg[(mpg['cylinders'] ==4) & (mpg['origin'] == 'usa')] ['mpg']"
   ]
  },
  {
   "cell_type": "code",
   "execution_count": 61,
   "id": "9629824c",
   "metadata": {},
   "outputs": [
    {
     "data": {
      "text/plain": [
       "F_onewayResult(statistic=9.411845545485601, pvalue=0.00012379894210177303)"
      ]
     },
     "execution_count": 61,
     "metadata": {},
     "output_type": "execute_result"
    }
   ],
   "source": [
    "stats.f_oneway(eu, jp, us)"
   ]
  },
  {
   "cell_type": "markdown",
   "id": "8532371c",
   "metadata": {},
   "source": [
    "## Here P value is less than 0.05, So with 95% confidence level, I can say that there is a significant difference in the miles per galon (mpg) for cars produced in europe, japan & USA. One of these is different"
   ]
  },
  {
   "cell_type": "code",
   "execution_count": null,
   "id": "192cff44",
   "metadata": {},
   "outputs": [],
   "source": []
  }
 ],
 "metadata": {
  "kernelspec": {
   "display_name": "Python 3 (ipykernel)",
   "language": "python",
   "name": "python3"
  },
  "language_info": {
   "codemirror_mode": {
    "name": "ipython",
    "version": 3
   },
   "file_extension": ".py",
   "mimetype": "text/x-python",
   "name": "python",
   "nbconvert_exporter": "python",
   "pygments_lexer": "ipython3",
   "version": "3.9.13"
  }
 },
 "nbformat": 4,
 "nbformat_minor": 5
}
