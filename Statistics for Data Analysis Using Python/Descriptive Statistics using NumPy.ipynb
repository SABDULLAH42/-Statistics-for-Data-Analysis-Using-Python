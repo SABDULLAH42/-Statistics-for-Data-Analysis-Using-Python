{
 "cells": [
  {
   "cell_type": "code",
   "execution_count": 8,
   "id": "a4d56c57",
   "metadata": {},
   "outputs": [],
   "source": [
    "import statistics\n",
    "import numpy as np\n",
    "import scipy.stats as stats"
   ]
  },
  {
   "cell_type": "code",
   "execution_count": 2,
   "id": "db6582bd",
   "metadata": {},
   "outputs": [],
   "source": [
    "li = [1,2,3,3]"
   ]
  },
  {
   "cell_type": "code",
   "execution_count": 3,
   "id": "70c2330e",
   "metadata": {},
   "outputs": [
    {
     "data": {
      "text/plain": [
       "2.25"
      ]
     },
     "execution_count": 3,
     "metadata": {},
     "output_type": "execute_result"
    }
   ],
   "source": [
    "statistics.mean(li)"
   ]
  },
  {
   "cell_type": "code",
   "execution_count": 4,
   "id": "fbf6d1e4",
   "metadata": {},
   "outputs": [
    {
     "data": {
      "text/plain": [
       "2.25"
      ]
     },
     "execution_count": 4,
     "metadata": {},
     "output_type": "execute_result"
    }
   ],
   "source": [
    "np.mean(li)"
   ]
  },
  {
   "cell_type": "code",
   "execution_count": 5,
   "id": "ecae2b70",
   "metadata": {},
   "outputs": [
    {
     "data": {
      "text/plain": [
       "2.5"
      ]
     },
     "execution_count": 5,
     "metadata": {},
     "output_type": "execute_result"
    }
   ],
   "source": [
    "np.median(li)"
   ]
  },
  {
   "cell_type": "code",
   "execution_count": 6,
   "id": "790dca16",
   "metadata": {},
   "outputs": [
    {
     "data": {
      "text/plain": [
       "0.6875"
      ]
     },
     "execution_count": 6,
     "metadata": {},
     "output_type": "execute_result"
    }
   ],
   "source": [
    "np.var(li)"
   ]
  },
  {
   "cell_type": "code",
   "execution_count": 9,
   "id": "c14dd87f",
   "metadata": {},
   "outputs": [
    {
     "name": "stderr",
     "output_type": "stream",
     "text": [
      "C:\\Users\\USER\\AppData\\Local\\Temp\\ipykernel_18148\\471236212.py:1: FutureWarning: Unlike other reduction functions (e.g. `skew`, `kurtosis`), the default behavior of `mode` typically preserves the axis it acts along. In SciPy 1.11.0, this behavior will change: the default value of `keepdims` will become False, the `axis` over which the statistic is taken will be eliminated, and the value None will no longer be accepted. Set `keepdims` to True or False to avoid this warning.\n",
      "  stats.mode(li)\n"
     ]
    },
    {
     "data": {
      "text/plain": [
       "ModeResult(mode=array([3]), count=array([2]))"
      ]
     },
     "execution_count": 9,
     "metadata": {},
     "output_type": "execute_result"
    }
   ],
   "source": [
    "stats.mode(li)"
   ]
  },
  {
   "cell_type": "code",
   "execution_count": 11,
   "id": "99ffcaa3",
   "metadata": {},
   "outputs": [
    {
     "data": {
      "text/plain": [
       "array([ 0,  7, 15,  0,  1, 16, 15,  8,  5, 13,  8, 16,  4,  6,  0, 11,  7,\n",
       "       11, 19, 16])"
      ]
     },
     "execution_count": 11,
     "metadata": {},
     "output_type": "execute_result"
    }
   ],
   "source": [
    "one_d = np.random.randint(0,20, 20)    # Creating a one dimensional array with 20 items\n",
    "one_d"
   ]
  },
  {
   "cell_type": "code",
   "execution_count": 12,
   "id": "6e2e2330",
   "metadata": {},
   "outputs": [
    {
     "data": {
      "text/plain": [
       "(20,)"
      ]
     },
     "execution_count": 12,
     "metadata": {},
     "output_type": "execute_result"
    }
   ],
   "source": [
    "one_d.shape"
   ]
  },
  {
   "cell_type": "markdown",
   "id": "e89cf7b6",
   "metadata": {},
   "source": [
    "# Now I want to convert this 1 dimensional array to 2 dimensional array using reshape function (in 2 dim array there is 4 rows and 5 columns)"
   ]
  },
  {
   "cell_type": "code",
   "execution_count": 13,
   "id": "53c34127",
   "metadata": {},
   "outputs": [
    {
     "data": {
      "text/plain": [
       "array([[ 0,  7, 15,  0,  1],\n",
       "       [16, 15,  8,  5, 13],\n",
       "       [ 8, 16,  4,  6,  0],\n",
       "       [11,  7, 11, 19, 16]])"
      ]
     },
     "execution_count": 13,
     "metadata": {},
     "output_type": "execute_result"
    }
   ],
   "source": [
    "two_d = one_d.reshape(4,5)\n",
    "two_d"
   ]
  },
  {
   "cell_type": "code",
   "execution_count": 14,
   "id": "0fd16278",
   "metadata": {},
   "outputs": [
    {
     "data": {
      "text/plain": [
       "8.9"
      ]
     },
     "execution_count": 14,
     "metadata": {},
     "output_type": "execute_result"
    }
   ],
   "source": [
    "np.mean(two_d)"
   ]
  },
  {
   "cell_type": "markdown",
   "id": "1c4f1c3f",
   "metadata": {},
   "source": [
    "# axis = 0 means Row but the meaning is across the rows these will give me 5 means of each column"
   ]
  },
  {
   "cell_type": "code",
   "execution_count": 15,
   "id": "2db8fa13",
   "metadata": {},
   "outputs": [
    {
     "data": {
      "text/plain": [
       "array([ 8.75, 11.25,  9.5 ,  7.5 ,  7.5 ])"
      ]
     },
     "execution_count": 15,
     "metadata": {},
     "output_type": "execute_result"
    }
   ],
   "source": [
    "np.mean(two_d, axis=0)"
   ]
  },
  {
   "cell_type": "markdown",
   "id": "75bcf75f",
   "metadata": {},
   "source": [
    "## axis = 1 means Column but the meaning is across the columns these will give me 4 means of each rows"
   ]
  },
  {
   "cell_type": "code",
   "execution_count": 16,
   "id": "d2065206",
   "metadata": {},
   "outputs": [
    {
     "data": {
      "text/plain": [
       "array([ 4.6, 11.4,  6.8, 12.8])"
      ]
     },
     "execution_count": 16,
     "metadata": {},
     "output_type": "execute_result"
    }
   ],
   "source": [
    "np.mean(two_d, axis=1)"
   ]
  },
  {
   "cell_type": "markdown",
   "id": "9d29370e",
   "metadata": {},
   "source": [
    "# The variable two_d contains a 2 dimensional NumPy array that looks like:\n",
    "\n",
    "array([[1, 2, 3],\n",
    "       [4, 5, 6],\n",
    "       [7, 8, 9]])\n",
    "Calculate the mean of each row. The final answer should be another NumPy array with 3 elements in it. Assign this to the variable answer"
   ]
  },
  {
   "cell_type": "code",
   "execution_count": 20,
   "id": "0780feea",
   "metadata": {},
   "outputs": [
    {
     "data": {
      "text/plain": [
       "array([[1, 2, 3],\n",
       "       [4, 5, 6],\n",
       "       [7, 8, 9]])"
      ]
     },
     "execution_count": 20,
     "metadata": {},
     "output_type": "execute_result"
    }
   ],
   "source": [
    "import numpy as np\n",
    "two_d = np.arange(1, 10).reshape(3, 3)\n",
    "two_d"
   ]
  },
  {
   "cell_type": "code",
   "execution_count": 21,
   "id": "5f511acc",
   "metadata": {},
   "outputs": [
    {
     "data": {
      "text/plain": [
       "array([2., 5., 8.])"
      ]
     },
     "execution_count": 21,
     "metadata": {},
     "output_type": "execute_result"
    }
   ],
   "source": [
    "answer = np.mean(two_d, axis=1)\n",
    "answer"
   ]
  },
  {
   "cell_type": "code",
   "execution_count": 24,
   "id": "1b0f9ed3",
   "metadata": {},
   "outputs": [
    {
     "data": {
      "text/plain": [
       "array([2., 5., 8.])"
      ]
     },
     "execution_count": 24,
     "metadata": {},
     "output_type": "execute_result"
    }
   ],
   "source": [
    "answer = two_d.mean(axis=1)\n",
    "answer"
   ]
  },
  {
   "cell_type": "markdown",
   "id": "91f24880",
   "metadata": {},
   "source": [
    "# Calculate the mean of each column"
   ]
  },
  {
   "cell_type": "code",
   "execution_count": 22,
   "id": "daa15069",
   "metadata": {},
   "outputs": [
    {
     "data": {
      "text/plain": [
       "array([4., 5., 6.])"
      ]
     },
     "execution_count": 22,
     "metadata": {},
     "output_type": "execute_result"
    }
   ],
   "source": [
    "answer = np.mean(two_d, axis=0)\n",
    "answer"
   ]
  },
  {
   "cell_type": "code",
   "execution_count": 25,
   "id": "f4cd00c9",
   "metadata": {},
   "outputs": [
    {
     "data": {
      "text/plain": [
       "array([4., 5., 6.])"
      ]
     },
     "execution_count": 25,
     "metadata": {},
     "output_type": "execute_result"
    }
   ],
   "source": [
    "answer = two_d.mean(axis=0)\n",
    "answer"
   ]
  },
  {
   "cell_type": "code",
   "execution_count": null,
   "id": "fe4b359d",
   "metadata": {},
   "outputs": [],
   "source": []
  }
 ],
 "metadata": {
  "kernelspec": {
   "display_name": "Python 3 (ipykernel)",
   "language": "python",
   "name": "python3"
  },
  "language_info": {
   "codemirror_mode": {
    "name": "ipython",
    "version": 3
   },
   "file_extension": ".py",
   "mimetype": "text/x-python",
   "name": "python",
   "nbconvert_exporter": "python",
   "pygments_lexer": "ipython3",
   "version": "3.9.13"
  }
 },
 "nbformat": 4,
 "nbformat_minor": 5
}
