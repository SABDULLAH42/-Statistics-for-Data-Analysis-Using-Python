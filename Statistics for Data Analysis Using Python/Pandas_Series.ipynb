{
 "cells": [
  {
   "cell_type": "code",
   "execution_count": 20,
   "id": "8d11e9e6",
   "metadata": {},
   "outputs": [],
   "source": [
    "import pandas as pd\n",
    "import numpy as np"
   ]
  },
  {
   "cell_type": "code",
   "execution_count": 21,
   "id": "f2c10d3d",
   "metadata": {},
   "outputs": [],
   "source": [
    "mydays = ['Sun', 'Mon', 'Tues']\n",
    "myexp = [34, 44, 29]"
   ]
  },
  {
   "cell_type": "code",
   "execution_count": 22,
   "id": "9223f83b",
   "metadata": {},
   "outputs": [
    {
     "data": {
      "text/plain": [
       "list"
      ]
     },
     "execution_count": 22,
     "metadata": {},
     "output_type": "execute_result"
    }
   ],
   "source": [
    "type(myexp)"
   ]
  },
  {
   "cell_type": "code",
   "execution_count": null,
   "id": "a7f3a5d3",
   "metadata": {},
   "outputs": [],
   "source": [
    "#Now I want to make an array out of this list\n",
    "#using np.array to convert the list into array"
   ]
  },
  {
   "cell_type": "code",
   "execution_count": 30,
   "id": "c2343d43",
   "metadata": {},
   "outputs": [],
   "source": [
    "a_mydays = np.array(mydays)\n",
    "a_myexp = np.array(myexp)"
   ]
  },
  {
   "cell_type": "code",
   "execution_count": 31,
   "id": "f9548016",
   "metadata": {},
   "outputs": [
    {
     "data": {
      "text/plain": [
       "numpy.ndarray"
      ]
     },
     "execution_count": 31,
     "metadata": {},
     "output_type": "execute_result"
    }
   ],
   "source": [
    "type(a_myexp)"
   ]
  },
  {
   "cell_type": "code",
   "execution_count": 32,
   "id": "87b6ac6e",
   "metadata": {},
   "outputs": [
    {
     "data": {
      "text/plain": [
       "0    34\n",
       "1    44\n",
       "2    29\n",
       "dtype: int32"
      ]
     },
     "execution_count": 32,
     "metadata": {},
     "output_type": "execute_result"
    }
   ],
   "source": [
    "pd.Series(a_myexp)"
   ]
  },
  {
   "cell_type": "code",
   "execution_count": 26,
   "id": "8bd5aa85",
   "metadata": {},
   "outputs": [
    {
     "data": {
      "text/plain": [
       "0    34\n",
       "1    44\n",
       "2    29\n",
       "dtype: int64"
      ]
     },
     "execution_count": 26,
     "metadata": {},
     "output_type": "execute_result"
    }
   ],
   "source": [
    "pd.Series(myexp)"
   ]
  },
  {
   "cell_type": "code",
   "execution_count": 35,
   "id": "f3c21655",
   "metadata": {},
   "outputs": [
    {
     "data": {
      "text/plain": [
       "Sun     34\n",
       "Mon     44\n",
       "Tues    29\n",
       "dtype: int64"
      ]
     },
     "execution_count": 35,
     "metadata": {},
     "output_type": "execute_result"
    }
   ],
   "source": [
    "s_myexp = pd.Series(data=myexp, index=mydays)\n",
    "s_myexp"
   ]
  },
  {
   "cell_type": "code",
   "execution_count": 33,
   "id": "d70589e5",
   "metadata": {},
   "outputs": [
    {
     "data": {
      "text/plain": [
       "44"
      ]
     },
     "execution_count": 33,
     "metadata": {},
     "output_type": "execute_result"
    }
   ],
   "source": [
    "a_myexp[1]"
   ]
  },
  {
   "cell_type": "code",
   "execution_count": 36,
   "id": "ba964c9b",
   "metadata": {},
   "outputs": [
    {
     "name": "stderr",
     "output_type": "stream",
     "text": [
      "C:\\Users\\USER\\AppData\\Local\\Temp\\ipykernel_12072\\1423570822.py:1: FutureWarning: Series.__getitem__ treating keys as positions is deprecated. In a future version, integer keys will always be treated as labels (consistent with DataFrame behavior). To access a value by position, use `ser.iloc[pos]`\n",
      "  s_myexp[0]\n"
     ]
    },
    {
     "data": {
      "text/plain": [
       "34"
      ]
     },
     "execution_count": 36,
     "metadata": {},
     "output_type": "execute_result"
    }
   ],
   "source": [
    "s_myexp[0]"
   ]
  },
  {
   "cell_type": "code",
   "execution_count": 37,
   "id": "0483ac05",
   "metadata": {},
   "outputs": [
    {
     "data": {
      "text/plain": [
       "44"
      ]
     },
     "execution_count": 37,
     "metadata": {},
     "output_type": "execute_result"
    }
   ],
   "source": [
    "s_myexp['Mon']"
   ]
  },
  {
   "cell_type": "code",
   "execution_count": 38,
   "id": "c1f331f7",
   "metadata": {},
   "outputs": [
    {
     "data": {
      "text/plain": [
       "Index(['Sun', 'Mon', 'Tues'], dtype='object')"
      ]
     },
     "execution_count": 38,
     "metadata": {},
     "output_type": "execute_result"
    }
   ],
   "source": [
    "s_myexp.index"
   ]
  },
  {
   "cell_type": "code",
   "execution_count": null,
   "id": "28ee0689",
   "metadata": {},
   "outputs": [],
   "source": []
  }
 ],
 "metadata": {
  "kernelspec": {
   "display_name": "Python 3 (ipykernel)",
   "language": "python",
   "name": "python3"
  },
  "language_info": {
   "codemirror_mode": {
    "name": "ipython",
    "version": 3
   },
   "file_extension": ".py",
   "mimetype": "text/x-python",
   "name": "python",
   "nbconvert_exporter": "python",
   "pygments_lexer": "ipython3",
   "version": "3.9.13"
  }
 },
 "nbformat": 4,
 "nbformat_minor": 5
}
