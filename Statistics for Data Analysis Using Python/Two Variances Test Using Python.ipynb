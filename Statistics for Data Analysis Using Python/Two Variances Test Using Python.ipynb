{
 "cells": [
  {
   "cell_type": "code",
   "execution_count": 1,
   "id": "33f601e5",
   "metadata": {},
   "outputs": [],
   "source": [
    "import numpy as np\n",
    "import pandas as pd\n",
    "import matplotlib.pyplot as plt\n",
    "import seaborn as sns\n",
    "import scipy.stats as stats\n",
    "from scipy.stats import f"
   ]
  },
  {
   "cell_type": "markdown",
   "id": "9204a999",
   "metadata": {},
   "source": [
    "## We took 8 samples from MachineA and the SD was 1.1 For Machine B we took 5 samples and the variance was 11. Is there a difference in variance at 90% confidence level?"
   ]
  },
  {
   "cell_type": "code",
   "execution_count": 3,
   "id": "7b7d837f",
   "metadata": {},
   "outputs": [
    {
     "data": {
      "text/plain": [
       "9.09090909090909"
      ]
     },
     "execution_count": 3,
     "metadata": {},
     "output_type": "execute_result"
    }
   ],
   "source": [
    "F_cal = 11/(1.1**2)\n",
    "F_cal"
   ]
  },
  {
   "cell_type": "code",
   "execution_count": 5,
   "id": "ed4663fd",
   "metadata": {},
   "outputs": [
    {
     "data": {
      "text/plain": [
       "4.120311726897633"
      ]
     },
     "execution_count": 5,
     "metadata": {},
     "output_type": "execute_result"
    }
   ],
   "source": [
    "f.isf(0.05, 4, 7)   # using the Inverse Survival function 4 is numerator dof, 7 is denominator dof\n",
    "                    # This is thencritical value on the right"
   ]
  },
  {
   "cell_type": "code",
   "execution_count": 6,
   "id": "d419da78",
   "metadata": {},
   "outputs": [
    {
     "data": {
      "text/plain": [
       "0.1640901524729093"
      ]
     },
     "execution_count": 6,
     "metadata": {},
     "output_type": "execute_result"
    }
   ],
   "source": [
    "f.isf(0.95, 4, 7)   # 9 is the f calculated falls in the rejection zone on the right side"
   ]
  },
  {
   "cell_type": "code",
   "execution_count": 7,
   "id": "fec5dde2",
   "metadata": {},
   "outputs": [],
   "source": [
    "m1 = [150, 150, 151, 148, 151, 152, 149, 150]\n",
    "m2 = [135, 152, 154, 169, 157]"
   ]
  },
  {
   "cell_type": "code",
   "execution_count": 8,
   "id": "2daf76df",
   "metadata": {},
   "outputs": [
    {
     "data": {
      "text/plain": [
       "1.165922381636102"
      ]
     },
     "execution_count": 8,
     "metadata": {},
     "output_type": "execute_result"
    }
   ],
   "source": [
    "np.std(m1)"
   ]
  },
  {
   "cell_type": "code",
   "execution_count": 9,
   "id": "ae1dc97b",
   "metadata": {},
   "outputs": [
    {
     "data": {
      "text/plain": [
       "10.9288608738514"
      ]
     },
     "execution_count": 9,
     "metadata": {},
     "output_type": "execute_result"
    }
   ],
   "source": [
    "np.std(m2)"
   ]
  },
  {
   "cell_type": "code",
   "execution_count": 10,
   "id": "dbd49efa",
   "metadata": {},
   "outputs": [
    {
     "data": {
      "text/plain": [
       "BartlettResult(statistic=19.105727631632714, pvalue=1.2367317910523616e-05)"
      ]
     },
     "execution_count": 10,
     "metadata": {},
     "output_type": "execute_result"
    }
   ],
   "source": [
    "stats.bartlett(m1, m2)"
   ]
  },
  {
   "cell_type": "code",
   "execution_count": 11,
   "id": "da3835ae",
   "metadata": {},
   "outputs": [
    {
     "data": {
      "text/plain": [
       "LeveneResult(statistic=5.416245804750017, pvalue=0.040060452607943706)"
      ]
     },
     "execution_count": 11,
     "metadata": {},
     "output_type": "execute_result"
    }
   ],
   "source": [
    "stats.levene(m1, m2)"
   ]
  },
  {
   "cell_type": "code",
   "execution_count": null,
   "id": "62340f68",
   "metadata": {},
   "outputs": [],
   "source": []
  },
  {
   "cell_type": "code",
   "execution_count": null,
   "id": "6141e95e",
   "metadata": {},
   "outputs": [],
   "source": []
  },
  {
   "cell_type": "code",
   "execution_count": null,
   "id": "58a5d8f5",
   "metadata": {},
   "outputs": [],
   "source": []
  },
  {
   "cell_type": "code",
   "execution_count": null,
   "id": "13fdc97f",
   "metadata": {},
   "outputs": [],
   "source": []
  },
  {
   "cell_type": "code",
   "execution_count": null,
   "id": "9b645057",
   "metadata": {},
   "outputs": [],
   "source": []
  }
 ],
 "metadata": {
  "kernelspec": {
   "display_name": "Python 3 (ipykernel)",
   "language": "python",
   "name": "python3"
  },
  "language_info": {
   "codemirror_mode": {
    "name": "ipython",
    "version": 3
   },
   "file_extension": ".py",
   "mimetype": "text/x-python",
   "name": "python",
   "nbconvert_exporter": "python",
   "pygments_lexer": "ipython3",
   "version": "3.9.13"
  }
 },
 "nbformat": 4,
 "nbformat_minor": 5
}
