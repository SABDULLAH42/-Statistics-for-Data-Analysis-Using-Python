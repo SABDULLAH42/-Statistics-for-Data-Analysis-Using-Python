{
 "cells": [
  {
   "cell_type": "code",
   "execution_count": 1,
   "id": "108e5786",
   "metadata": {},
   "outputs": [],
   "source": [
    "import numpy as np\n",
    "import pandas as pd\n",
    "import matplotlib.pyplot as plt\n",
    "import seaborn as sns\n",
    "import scipy.stats as stats\n",
    "from statsmodels.stats import weightstats"
   ]
  },
  {
   "cell_type": "code",
   "execution_count": 2,
   "id": "ef8f9e0b",
   "metadata": {},
   "outputs": [],
   "source": [
    "bp_before = [120, 122, 143, 100, 109]\n",
    "bp_after =  [122, 120, 141, 109, 109]"
   ]
  },
  {
   "cell_type": "code",
   "execution_count": 3,
   "id": "b559e2fc",
   "metadata": {},
   "outputs": [
    {
     "data": {
      "text/plain": [
       "Ttest_relResult(statistic=-0.6864064729836442, pvalue=0.5301776477578163)"
      ]
     },
     "execution_count": 3,
     "metadata": {},
     "output_type": "execute_result"
    }
   ],
   "source": [
    "stats.ttest_rel(bp_before, bp_after)"
   ]
  },
  {
   "cell_type": "markdown",
   "id": "6ce211fb",
   "metadata": {},
   "source": [
    "p value is higher than 0.05, I fail to reject the Null Hypothesis that means I cannot\n",
    "say that there is a significant difference in the blood pressure because of the medicine"
   ]
  },
  {
   "cell_type": "code",
   "execution_count": null,
   "id": "98c10a62",
   "metadata": {},
   "outputs": [],
   "source": []
  },
  {
   "cell_type": "code",
   "execution_count": null,
   "id": "9a9cd7de",
   "metadata": {},
   "outputs": [],
   "source": []
  },
  {
   "cell_type": "code",
   "execution_count": null,
   "id": "aedd015c",
   "metadata": {},
   "outputs": [],
   "source": []
  }
 ],
 "metadata": {
  "kernelspec": {
   "display_name": "Python 3 (ipykernel)",
   "language": "python",
   "name": "python3"
  },
  "language_info": {
   "codemirror_mode": {
    "name": "ipython",
    "version": 3
   },
   "file_extension": ".py",
   "mimetype": "text/x-python",
   "name": "python",
   "nbconvert_exporter": "python",
   "pygments_lexer": "ipython3",
   "version": "3.9.13"
  }
 },
 "nbformat": 4,
 "nbformat_minor": 5
}
