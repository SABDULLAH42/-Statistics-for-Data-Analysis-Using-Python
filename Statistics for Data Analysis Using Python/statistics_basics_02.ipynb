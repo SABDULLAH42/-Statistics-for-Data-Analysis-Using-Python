{
 "cells": [
  {
   "cell_type": "code",
   "execution_count": 14,
   "id": "7cdab2c8",
   "metadata": {},
   "outputs": [],
   "source": [
    "###from data import data"
   ]
  },
  {
   "cell_type": "code",
   "execution_count": 4,
   "id": "41b173d3",
   "metadata": {},
   "outputs": [],
   "source": [
    "data = [5, 85, 61, 48, 82, 64, 100, 19, 7, 26, \n",
    "        90, 4, 97, 77, 74, 80, 37, 17, 93, 81, \n",
    "        96, 16, 39, 30, 86, 87, 42, 33, 69, 76, \n",
    "        100, 67, 78, 74, 83, 12, 55, 10, 24, 15, \n",
    "        19, 31, 31, 36, 84, 12, 54, 97, 45, 60, 87, \n",
    "        28, 83, 46, 81, 83, 30, 67, 80, 30, 99, 35, \n",
    "        85, 19, 61, 56, 36, 66, 86, 12, 76, 35, 60, \n",
    "        15, 36, 48, 3, 50, 82, 91, 45, 35, 15, 13, \n",
    "        87, 29, 76, 23, 8, 79, 6, 34, 15, 82, 94, \n",
    "        12, 7, 64, 100, 96]"
   ]
  },
  {
   "cell_type": "code",
   "execution_count": 5,
   "id": "78412505",
   "metadata": {},
   "outputs": [],
   "source": [
    "import statistics"
   ]
  },
  {
   "cell_type": "code",
   "execution_count": 6,
   "id": "748f03d6",
   "metadata": {},
   "outputs": [],
   "source": [
    "list_mean = statistics.mean(data)\n",
    "list_mode = statistics.mode(data)\n",
    "list_median = statistics.median(data)\n",
    "list_std = statistics.stdev(data)"
   ]
  },
  {
   "cell_type": "code",
   "execution_count": 7,
   "id": "640c97c0",
   "metadata": {},
   "outputs": [
    {
     "name": "stdout",
     "output_type": "stream",
     "text": [
      "52.94\n",
      "12\n",
      "54.5\n",
      "30.541185969180052\n"
     ]
    }
   ],
   "source": [
    "print(list_mean)\n",
    "print(list_mode)\n",
    "print(list_median)\n",
    "print(list_std)"
   ]
  },
  {
   "cell_type": "code",
   "execution_count": 8,
   "id": "629ceac5",
   "metadata": {},
   "outputs": [],
   "source": [
    "import random"
   ]
  },
  {
   "cell_type": "code",
   "execution_count": 11,
   "id": "348929f5",
   "metadata": {},
   "outputs": [],
   "source": [
    "data_1 = [random.randint(0,100) for _ in range(100)]"
   ]
  },
  {
   "cell_type": "code",
   "execution_count": 12,
   "id": "14867d68",
   "metadata": {},
   "outputs": [
    {
     "data": {
      "text/plain": [
       "[79,\n",
       " 70,\n",
       " 93,\n",
       " 54,\n",
       " 89,\n",
       " 51,\n",
       " 11,\n",
       " 89,\n",
       " 31,\n",
       " 94,\n",
       " 29,\n",
       " 70,\n",
       " 41,\n",
       " 45,\n",
       " 86,\n",
       " 18,\n",
       " 86,\n",
       " 47,\n",
       " 9,\n",
       " 30,\n",
       " 50,\n",
       " 66,\n",
       " 61,\n",
       " 39,\n",
       " 73,\n",
       " 27,\n",
       " 24,\n",
       " 11,\n",
       " 73,\n",
       " 48,\n",
       " 48,\n",
       " 32,\n",
       " 91,\n",
       " 0,\n",
       " 88,\n",
       " 21,\n",
       " 29,\n",
       " 94,\n",
       " 6,\n",
       " 23,\n",
       " 92,\n",
       " 93,\n",
       " 99,\n",
       " 72,\n",
       " 16,\n",
       " 21,\n",
       " 88,\n",
       " 54,\n",
       " 48,\n",
       " 8,\n",
       " 86,\n",
       " 15,\n",
       " 43,\n",
       " 100,\n",
       " 35,\n",
       " 8,\n",
       " 60,\n",
       " 25,\n",
       " 69,\n",
       " 86,\n",
       " 46,\n",
       " 62,\n",
       " 82,\n",
       " 48,\n",
       " 39,\n",
       " 66,\n",
       " 78,\n",
       " 54,\n",
       " 39,\n",
       " 18,\n",
       " 8,\n",
       " 38,\n",
       " 2,\n",
       " 7,\n",
       " 7,\n",
       " 12,\n",
       " 67,\n",
       " 7,\n",
       " 23,\n",
       " 31,\n",
       " 90,\n",
       " 32,\n",
       " 49,\n",
       " 71,\n",
       " 42,\n",
       " 30,\n",
       " 99,\n",
       " 16,\n",
       " 45,\n",
       " 90,\n",
       " 1,\n",
       " 43,\n",
       " 100,\n",
       " 43,\n",
       " 30,\n",
       " 9,\n",
       " 97,\n",
       " 77,\n",
       " 99,\n",
       " 26]"
      ]
     },
     "execution_count": 12,
     "metadata": {},
     "output_type": "execute_result"
    }
   ],
   "source": [
    "data_1"
   ]
  },
  {
   "cell_type": "code",
   "execution_count": 17,
   "id": "b40de56e",
   "metadata": {},
   "outputs": [],
   "source": [
    "quartiles = statistics.quantiles(data_1)\n"
   ]
  },
  {
   "cell_type": "code",
   "execution_count": 18,
   "id": "65cff955",
   "metadata": {},
   "outputs": [
    {
     "name": "stdout",
     "output_type": "stream",
     "text": [
      "[24.25, 46.5, 77.75]\n"
     ]
    }
   ],
   "source": [
    "print(quartiles)"
   ]
  },
  {
   "cell_type": "code",
   "execution_count": 19,
   "id": "6c980fe7",
   "metadata": {},
   "outputs": [],
   "source": [
    "q3 = quartiles[2]\n",
    "q1 = quartiles[0]\n"
   ]
  },
  {
   "cell_type": "code",
   "execution_count": 22,
   "id": "b3ff5a6e",
   "metadata": {},
   "outputs": [
    {
     "data": {
      "text/plain": [
       "77.75"
      ]
     },
     "execution_count": 22,
     "metadata": {},
     "output_type": "execute_result"
    }
   ],
   "source": [
    "q3"
   ]
  },
  {
   "cell_type": "code",
   "execution_count": 23,
   "id": "6f634e69",
   "metadata": {},
   "outputs": [
    {
     "data": {
      "text/plain": [
       "24.25"
      ]
     },
     "execution_count": 23,
     "metadata": {},
     "output_type": "execute_result"
    }
   ],
   "source": [
    "q1"
   ]
  },
  {
   "cell_type": "code",
   "execution_count": 24,
   "id": "88ddfa77",
   "metadata": {},
   "outputs": [],
   "source": [
    "iqr = q3 - q1"
   ]
  },
  {
   "cell_type": "code",
   "execution_count": 25,
   "id": "78dd0690",
   "metadata": {},
   "outputs": [
    {
     "data": {
      "text/plain": [
       "53.5"
      ]
     },
     "execution_count": 25,
     "metadata": {},
     "output_type": "execute_result"
    }
   ],
   "source": [
    "iqr"
   ]
  },
  {
   "cell_type": "code",
   "execution_count": null,
   "id": "0d283c93",
   "metadata": {},
   "outputs": [],
   "source": []
  }
 ],
 "metadata": {
  "kernelspec": {
   "display_name": "Python 3 (ipykernel)",
   "language": "python",
   "name": "python3"
  },
  "language_info": {
   "codemirror_mode": {
    "name": "ipython",
    "version": 3
   },
   "file_extension": ".py",
   "mimetype": "text/x-python",
   "name": "python",
   "nbconvert_exporter": "python",
   "pygments_lexer": "ipython3",
   "version": "3.9.13"
  }
 },
 "nbformat": 4,
 "nbformat_minor": 5
}
