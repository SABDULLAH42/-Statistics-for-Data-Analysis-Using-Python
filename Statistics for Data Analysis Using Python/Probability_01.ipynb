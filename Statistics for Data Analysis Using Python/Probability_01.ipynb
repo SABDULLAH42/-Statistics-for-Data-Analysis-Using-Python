{
 "cells": [
  {
   "cell_type": "code",
   "execution_count": 1,
   "id": "8180d1f5",
   "metadata": {},
   "outputs": [],
   "source": [
    "import numpy as np"
   ]
  },
  {
   "cell_type": "code",
   "execution_count": 3,
   "id": "81ab89ac",
   "metadata": {},
   "outputs": [
    {
     "data": {
      "text/plain": [
       "0.6754264639201404"
      ]
     },
     "execution_count": 3,
     "metadata": {},
     "output_type": "execute_result"
    }
   ],
   "source": [
    "np.random.rand()"
   ]
  },
  {
   "cell_type": "code",
   "execution_count": 8,
   "id": "f4065916",
   "metadata": {},
   "outputs": [
    {
     "data": {
      "text/plain": [
       "0.7178340874802498"
      ]
     },
     "execution_count": 8,
     "metadata": {},
     "output_type": "execute_result"
    }
   ],
   "source": [
    "np.random.seed(555)     ### Using seed random number will not change it will remain fixed\n",
    "np.random.rand()                 #we can put any numberin the bracket"
   ]
  },
  {
   "cell_type": "code",
   "execution_count": 20,
   "id": "4aef73ec",
   "metadata": {},
   "outputs": [
    {
     "data": {
      "text/plain": [
       "array([0.03818193, 0.05308965, 0.12796081, 0.03338316, 0.22642109])"
      ]
     },
     "execution_count": 20,
     "metadata": {},
     "output_type": "execute_result"
    }
   ],
   "source": [
    "np.random.rand(5)"
   ]
  },
  {
   "cell_type": "code",
   "execution_count": 21,
   "id": "560816c6",
   "metadata": {},
   "outputs": [
    {
     "data": {
      "text/plain": [
       "2"
      ]
     },
     "execution_count": 21,
     "metadata": {},
     "output_type": "execute_result"
    }
   ],
   "source": [
    "sum(np.random.rand(5) > 0.5)"
   ]
  },
  {
   "cell_type": "markdown",
   "id": "f04fac21",
   "metadata": {},
   "source": [
    "# 2 dimensional array"
   ]
  },
  {
   "cell_type": "code",
   "execution_count": 22,
   "id": "c79b46e0",
   "metadata": {},
   "outputs": [
    {
     "data": {
      "text/plain": [
       "array([[0.46900855, 0.76824793, 0.66881406, 0.44126818, 0.59522545],\n",
       "       [0.46165662, 0.96326687, 0.14781138, 0.90681313, 0.49792484]])"
      ]
     },
     "execution_count": 22,
     "metadata": {},
     "output_type": "execute_result"
    }
   ],
   "source": [
    "np.random.rand(2, 5)"
   ]
  },
  {
   "cell_type": "code",
   "execution_count": 24,
   "id": "4225a855",
   "metadata": {},
   "outputs": [
    {
     "data": {
      "text/plain": [
       "1"
      ]
     },
     "execution_count": 24,
     "metadata": {},
     "output_type": "execute_result"
    }
   ],
   "source": [
    "np.random.randint(0, 2)"
   ]
  },
  {
   "cell_type": "code",
   "execution_count": 26,
   "id": "2067ac33",
   "metadata": {},
   "outputs": [
    {
     "data": {
      "text/plain": [
       "array([0, 1, 1, 0, 0, 1, 1, 1, 0, 1])"
      ]
     },
     "execution_count": 26,
     "metadata": {},
     "output_type": "execute_result"
    }
   ],
   "source": [
    "#np.random.randint(0, 2, 10)"
   ]
  },
  {
   "cell_type": "code",
   "execution_count": 28,
   "id": "23362247",
   "metadata": {},
   "outputs": [
    {
     "data": {
      "text/plain": [
       "5"
      ]
     },
     "execution_count": 28,
     "metadata": {},
     "output_type": "execute_result"
    }
   ],
   "source": [
    "sum(np.random.randint(0, 2, 10))"
   ]
  },
  {
   "cell_type": "code",
   "execution_count": 30,
   "id": "957c5521",
   "metadata": {},
   "outputs": [
    {
     "data": {
      "text/plain": [
       "array([5, 5, 3, 1, 4, 3, 5, 4, 6, 4])"
      ]
     },
     "execution_count": 30,
     "metadata": {},
     "output_type": "execute_result"
    }
   ],
   "source": [
    "np.random.randint(1, 7, 10)"
   ]
  },
  {
   "cell_type": "markdown",
   "id": "df21ee63",
   "metadata": {},
   "source": [
    "# Here we are rolling a dice 6000 times"
   ]
  },
  {
   "cell_type": "code",
   "execution_count": 35,
   "id": "3a1f1bb9",
   "metadata": {},
   "outputs": [
    {
     "data": {
      "image/png": "[encoded data removed]",
      "text/plain": [
       "<Figure size 640x480 with 1 Axes>"
      ]
     },
     "metadata": {},
     "output_type": "display_data"
    }
   ],
   "source": [
    "import matplotlib.pyplot as plt\n",
    "import seaborn as sns\n",
    "sns.set_theme(style=\"whitegrid\")\n",
    "a = np.random.randint(1, 7 , 6000)\n",
    "sns.countplot(x=a)\n",
    "plt.show()"
   ]
  },
  {
   "cell_type": "markdown",
   "id": "e6b62513",
   "metadata": {},
   "source": [
    "# If two dice are rolled , what is the probability of getting the sum of numbers greater than 7 ?\n",
    "\n",
    "Ans: 15/36 = 0.4166"
   ]
  },
  {
   "cell_type": "code",
   "execution_count": 36,
   "id": "71db5b56",
   "metadata": {},
   "outputs": [],
   "source": [
    "import numpy as np\n",
    "die1 = np.random.randint(1, 7, 10)\n",
    "die2 = np.random.randint(1, 7, 10)"
   ]
  },
  {
   "cell_type": "code",
   "execution_count": 37,
   "id": "364276f9",
   "metadata": {},
   "outputs": [
    {
     "data": {
      "text/plain": [
       "array([2, 5, 1, 5, 2, 2, 2, 2, 5, 3])"
      ]
     },
     "execution_count": 37,
     "metadata": {},
     "output_type": "execute_result"
    }
   ],
   "source": [
    "die1"
   ]
  },
  {
   "cell_type": "code",
   "execution_count": 38,
   "id": "a7350712",
   "metadata": {},
   "outputs": [
    {
     "data": {
      "text/plain": [
       "array([3, 1, 1, 2, 2, 4, 5, 2, 3, 5])"
      ]
     },
     "execution_count": 38,
     "metadata": {},
     "output_type": "execute_result"
    }
   ],
   "source": [
    "die2"
   ]
  },
  {
   "cell_type": "code",
   "execution_count": 39,
   "id": "af696cd3",
   "metadata": {},
   "outputs": [],
   "source": [
    "die_sum = die1 + die2"
   ]
  },
  {
   "cell_type": "code",
   "execution_count": 40,
   "id": "42b2d037",
   "metadata": {},
   "outputs": [
    {
     "data": {
      "text/plain": [
       "array([5, 6, 2, 7, 4, 6, 7, 4, 8, 8])"
      ]
     },
     "execution_count": 40,
     "metadata": {},
     "output_type": "execute_result"
    }
   ],
   "source": [
    "die_sum"
   ]
  },
  {
   "cell_type": "code",
   "execution_count": 50,
   "id": "373fe9b8",
   "metadata": {},
   "outputs": [
    {
     "data": {
      "text/plain": [
       "416710"
      ]
     },
     "execution_count": 50,
     "metadata": {},
     "output_type": "execute_result"
    }
   ],
   "source": [
    "die1 = np.random.randint(1, 7, 1000000)\n",
    "die2 = np.random.randint(1, 7, 1000000)\n",
    "die_sum = die1 + die2\n",
    "sum(die_sum > 7)"
   ]
  },
  {
   "cell_type": "code",
   "execution_count": 52,
   "id": "a37f42e2",
   "metadata": {},
   "outputs": [
    {
     "data": {
      "text/plain": [
       "array([1, 5, 5, 3, 6])"
      ]
     },
     "execution_count": 52,
     "metadata": {},
     "output_type": "execute_result"
    }
   ],
   "source": [
    "my_ints = np.random.randint(1, 7, 5)\n",
    "my_ints"
   ]
  },
  {
   "cell_type": "code",
   "execution_count": null,
   "id": "816a848f",
   "metadata": {},
   "outputs": [],
   "source": []
  }
 ],
 "metadata": {
  "kernelspec": {
   "display_name": "Python 3 (ipykernel)",
   "language": "python",
   "name": "python3"
  },
  "language_info": {
   "codemirror_mode": {
    "name": "ipython",
    "version": 3
   },
   "file_extension": ".py",
   "mimetype": "text/x-python",
   "name": "python",
   "nbconvert_exporter": "python",
   "pygments_lexer": "ipython3",
   "version": "3.9.13"
  }
 },
 "nbformat": 4,
 "nbformat_minor": 5
}
