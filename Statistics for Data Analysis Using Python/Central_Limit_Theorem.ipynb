{
 "cells": [
  {
   "cell_type": "code",
   "execution_count": 1,
   "id": "9c74ee07",
   "metadata": {},
   "outputs": [],
   "source": [
    "import numpy as np\n",
    "import matplotlib.pyplot as plt\n",
    "import pandas as pd\n",
    "import seaborn as sns\n"
   ]
  },
  {
   "cell_type": "code",
   "execution_count": 4,
   "id": "04ef7f9c",
   "metadata": {},
   "outputs": [
    {
     "data": {
      "text/plain": [
       "array([5, 2, 4, 6, 3, 1, 5, 4, 6, 3, 5, 2, 6, 1, 2, 3, 2, 5, 2, 2, 1, 2,\n",
       "       2, 1, 6, 5, 1, 5, 5, 3, 5, 1, 4, 5, 2, 1, 4, 1, 6, 4, 5, 4, 3, 3,\n",
       "       6, 1, 4, 5, 3, 2, 6, 2, 3, 1, 5, 6, 4, 3, 1, 4, 5, 2, 5, 5, 3, 4,\n",
       "       4, 3, 2, 1, 4, 3, 5, 4, 1, 1, 4, 3, 3, 2, 3, 6, 2, 6, 1, 6, 6, 3,\n",
       "       6, 6, 4, 5, 2, 5, 2, 5, 6, 3, 4, 4])"
      ]
     },
     "execution_count": 4,
     "metadata": {},
     "output_type": "execute_result"
    }
   ],
   "source": [
    "one_h = np.random.randint(1, 7, 100)\n",
    "one_h"
   ]
  },
  {
   "cell_type": "code",
   "execution_count": 3,
   "id": "8f47ff22",
   "metadata": {},
   "outputs": [
    {
     "data": {
      "text/plain": [
       "<seaborn.axisgrid.FacetGrid at 0x15f7d9cfa30>"
      ]
     },
     "execution_count": 3,
     "metadata": {},
     "output_type": "execute_result"
    },
    {
     "data": {
      "image/png": "[encoded data removed]",
      "text/plain": [
       "<Figure size 500x500 with 1 Axes>"
      ]
     },
     "metadata": {},
     "output_type": "display_data"
    }
   ],
   "source": [
    "sns.displot(x = one_h, bins=6)  # distribution of 100 rolls of die"
   ]
  },
  {
   "cell_type": "code",
   "execution_count": 5,
   "id": "533c2406",
   "metadata": {},
   "outputs": [
    {
     "data": {
      "text/plain": [
       "array([4, 2, 5, ..., 6, 1, 6])"
      ]
     },
     "execution_count": 5,
     "metadata": {},
     "output_type": "execute_result"
    }
   ],
   "source": [
    "one_m = np.random.randint(1, 7, 1000000)   # # distribution of 1 million rolls of die\n",
    "one_m"
   ]
  },
  {
   "cell_type": "code",
   "execution_count": 6,
   "id": "ae174369",
   "metadata": {},
   "outputs": [
    {
     "data": {
      "text/plain": [
       "<seaborn.axisgrid.FacetGrid at 0x15f7dad7550>"
      ]
     },
     "execution_count": 6,
     "metadata": {},
     "output_type": "execute_result"
    },
    {
     "data": {
      "image/png": "[encoded data removed]",
      "text/plain": [
       "<Figure size 500x500 with 1 Axes>"
      ]
     },
     "metadata": {},
     "output_type": "display_data"
    }
   ],
   "source": [
    "sns.displot(x = one_m, bins=6)"
   ]
  },
  {
   "cell_type": "code",
   "execution_count": 7,
   "id": "1429c793",
   "metadata": {},
   "outputs": [
    {
     "data": {
      "text/plain": [
       "3.49499"
      ]
     },
     "execution_count": 7,
     "metadata": {},
     "output_type": "execute_result"
    }
   ],
   "source": [
    "np.mean(one_m)"
   ]
  },
  {
   "cell_type": "code",
   "execution_count": 8,
   "id": "8670eb59",
   "metadata": {},
   "outputs": [
    {
     "data": {
      "text/plain": [
       "1.7068136687699687"
      ]
     },
     "execution_count": 8,
     "metadata": {},
     "output_type": "execute_result"
    }
   ],
   "source": [
    "np.std(one_m)"
   ]
  },
  {
   "cell_type": "markdown",
   "id": "b47e02c9",
   "metadata": {},
   "source": [
    "### We want to draw four sample and take the average of that and plot a histogram of that"
   ]
  },
  {
   "cell_type": "code",
   "execution_count": 9,
   "id": "29dc6a75",
   "metadata": {},
   "outputs": [
    {
     "data": {
      "text/plain": [
       "array([[5, 2, 4, 6],\n",
       "       [3, 1, 5, 4],\n",
       "       [6, 3, 5, 2],\n",
       "       [6, 1, 2, 3],\n",
       "       [2, 5, 2, 2],\n",
       "       [1, 2, 2, 1],\n",
       "       [6, 5, 1, 5],\n",
       "       [5, 3, 5, 1],\n",
       "       [4, 5, 2, 1],\n",
       "       [4, 1, 6, 4],\n",
       "       [5, 4, 3, 3],\n",
       "       [6, 1, 4, 5],\n",
       "       [3, 2, 6, 2],\n",
       "       [3, 1, 5, 6],\n",
       "       [4, 3, 1, 4],\n",
       "       [5, 2, 5, 5],\n",
       "       [3, 4, 4, 3],\n",
       "       [2, 1, 4, 3],\n",
       "       [5, 4, 1, 1],\n",
       "       [4, 3, 3, 2],\n",
       "       [3, 6, 2, 6],\n",
       "       [1, 6, 6, 3],\n",
       "       [6, 6, 4, 5],\n",
       "       [2, 5, 2, 5],\n",
       "       [6, 3, 4, 4]])"
      ]
     },
     "execution_count": 9,
     "metadata": {},
     "output_type": "execute_result"
    }
   ],
   "source": [
    "one_h.reshape(25, 4)"
   ]
  },
  {
   "cell_type": "code",
   "execution_count": 10,
   "id": "e115a320",
   "metadata": {},
   "outputs": [
    {
     "data": {
      "text/plain": [
       "array([4.25, 3.25, 4.  , 3.  , 2.75, 1.5 , 4.25, 3.5 , 3.  , 3.75, 3.75,\n",
       "       4.  , 3.25, 3.75, 3.  , 4.25, 3.5 , 2.5 , 2.75, 3.  , 4.25, 4.  ,\n",
       "       5.25, 3.5 , 4.25])"
      ]
     },
     "execution_count": 10,
     "metadata": {},
     "output_type": "execute_result"
    }
   ],
   "source": [
    "one_h.reshape(25, 4).mean(axis=1)    # axis=1 means across columnn ie avg of 25 rows"
   ]
  },
  {
   "cell_type": "code",
   "execution_count": 11,
   "id": "46496d5c",
   "metadata": {},
   "outputs": [
    {
     "data": {
      "text/plain": [
       "array([4.  , 3.16, 3.52, 3.44])"
      ]
     },
     "execution_count": 11,
     "metadata": {},
     "output_type": "execute_result"
    }
   ],
   "source": [
    "one_h.reshape(25, 4).mean(axis=0)   # axis=0 means across rows ie avg of 4 columns"
   ]
  },
  {
   "cell_type": "code",
   "execution_count": 13,
   "id": "201025e3",
   "metadata": {},
   "outputs": [],
   "source": [
    "mean4 = one_m.reshape(250000, 4).mean(axis=1)    # 250000 avgs are stored in mean4"
   ]
  },
  {
   "cell_type": "code",
   "execution_count": 15,
   "id": "b74366a2",
   "metadata": {},
   "outputs": [
    {
     "data": {
      "text/plain": [
       "(0.0, 6.0)"
      ]
     },
     "execution_count": 15,
     "metadata": {},
     "output_type": "execute_result"
    },
    {
     "data": {
      "image/png": "[encoded data removed]",
      "text/plain": [
       "<Figure size 500x500 with 1 Axes>"
      ]
     },
     "metadata": {},
     "output_type": "display_data"
    }
   ],
   "source": [
    "sns.displot(x=mean4, bins=6)\n",
    "plt.xlim(0,6)"
   ]
  },
  {
   "cell_type": "code",
   "execution_count": 16,
   "id": "a6747116",
   "metadata": {},
   "outputs": [
    {
     "data": {
      "text/plain": [
       "3.49499"
      ]
     },
     "execution_count": 16,
     "metadata": {},
     "output_type": "execute_result"
    }
   ],
   "source": [
    "np.mean(mean4)"
   ]
  },
  {
   "cell_type": "code",
   "execution_count": 17,
   "id": "46aa9f94",
   "metadata": {},
   "outputs": [
    {
     "data": {
      "text/plain": [
       "0.8526886300989359"
      ]
     },
     "execution_count": 17,
     "metadata": {},
     "output_type": "execute_result"
    }
   ],
   "source": [
    "np.std(mean4)    # this should be the half of original std dev ie np.std(one_m)"
   ]
  },
  {
   "cell_type": "markdown",
   "id": "12625009",
   "metadata": {},
   "source": [
    "### We want to draw 100 sample and take the average of that and plot a histogram of that"
   ]
  },
  {
   "cell_type": "code",
   "execution_count": 19,
   "id": "489f1267",
   "metadata": {},
   "outputs": [],
   "source": [
    "mean100 = one_m.reshape(10000, 100).mean(axis=1)"
   ]
  },
  {
   "cell_type": "code",
   "execution_count": 20,
   "id": "6c14d27a",
   "metadata": {},
   "outputs": [
    {
     "data": {
      "text/plain": [
       "(0.0, 6.0)"
      ]
     },
     "execution_count": 20,
     "metadata": {},
     "output_type": "execute_result"
    },
    {
     "data": {
      "image/png": "[encoded data removed]",
      "text/plain": [
       "<Figure size 500x500 with 1 Axes>"
      ]
     },
     "metadata": {},
     "output_type": "display_data"
    }
   ],
   "source": [
    "sns.displot(x=mean100, bins=6)\n",
    "plt.xlim(0,6)"
   ]
  },
  {
   "cell_type": "code",
   "execution_count": 21,
   "id": "943d1237",
   "metadata": {},
   "outputs": [
    {
     "data": {
      "text/plain": [
       "3.49499"
      ]
     },
     "execution_count": 21,
     "metadata": {},
     "output_type": "execute_result"
    }
   ],
   "source": [
    "np.mean(mean100)"
   ]
  },
  {
   "cell_type": "code",
   "execution_count": 22,
   "id": "c6d58445",
   "metadata": {},
   "outputs": [
    {
     "data": {
      "text/plain": [
       "0.17044917101587792"
      ]
     },
     "execution_count": 22,
     "metadata": {},
     "output_type": "execute_result"
    }
   ],
   "source": [
    "np.std(mean100)      # here SD is one tenth of the original std dev"
   ]
  },
  {
   "cell_type": "code",
   "execution_count": 24,
   "id": "a8ebbefb",
   "metadata": {},
   "outputs": [],
   "source": [
    "a = np.random.normal(100, 5, 1000)\n",
    "b = np.random.normal(80, 5, 1000)\n",
    "bm_data = np.append(a, b)\n",
    "np.random.shuffle(bm_data)"
   ]
  },
  {
   "cell_type": "code",
   "execution_count": 25,
   "id": "9032c46d",
   "metadata": {},
   "outputs": [
    {
     "data": {
      "text/plain": [
       "<seaborn.axisgrid.FacetGrid at 0x15f0ba253a0>"
      ]
     },
     "execution_count": 25,
     "metadata": {},
     "output_type": "execute_result"
    },
    {
     "data": {
      "image/png": "[encoded data removed]",
      "text/plain": [
       "<Figure size 500x500 with 1 Axes>"
      ]
     },
     "metadata": {},
     "output_type": "display_data"
    }
   ],
   "source": [
    "sns.displot(bm_data)"
   ]
  },
  {
   "cell_type": "code",
   "execution_count": null,
   "id": "7ea0a3b0",
   "metadata": {},
   "outputs": [],
   "source": []
  }
 ],
 "metadata": {
  "kernelspec": {
   "display_name": "Python 3 (ipykernel)",
   "language": "python",
   "name": "python3"
  },
  "language_info": {
   "codemirror_mode": {
    "name": "ipython",
    "version": 3
   },
   "file_extension": ".py",
   "mimetype": "text/x-python",
   "name": "python",
   "nbconvert_exporter": "python",
   "pygments_lexer": "ipython3",
   "version": "3.9.13"
  }
 },
 "nbformat": 4,
 "nbformat_minor": 5
}
