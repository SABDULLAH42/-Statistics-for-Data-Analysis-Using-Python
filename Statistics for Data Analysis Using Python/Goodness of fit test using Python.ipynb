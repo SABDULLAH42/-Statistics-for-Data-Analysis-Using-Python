{
 "cells": [
  {
   "cell_type": "code",
   "execution_count": 1,
   "id": "cc0f8f17",
   "metadata": {},
   "outputs": [],
   "source": [
    "import numpy as np\n",
    "import pandas as pd\n",
    "import matplotlib.pyplot as plt\n",
    "import seaborn as sns\n",
    "import scipy.stats as stats"
   ]
  },
  {
   "cell_type": "markdown",
   "id": "2715a4ed",
   "metadata": {},
   "source": [
    "## A coin is flipped 100 times. Number of heads and tails are noted. Is this coin biased? Check with 95% confidence level?\n",
    "Null hypothesis: Coin is not biased\n",
    "Alternate hypothesis: Coin is biased"
   ]
  },
  {
   "cell_type": "code",
   "execution_count": 2,
   "id": "838a06b4",
   "metadata": {},
   "outputs": [],
   "source": [
    "exp = [50, 50]\n",
    "obs = [40, 60]"
   ]
  },
  {
   "cell_type": "code",
   "execution_count": 3,
   "id": "312c0f36",
   "metadata": {},
   "outputs": [
    {
     "data": {
      "text/plain": [
       "Power_divergenceResult(statistic=4.0, pvalue=0.04550026389635857)"
      ]
     },
     "execution_count": 3,
     "metadata": {},
     "output_type": "execute_result"
    }
   ],
   "source": [
    "stats.chisquare(obs, exp)"
   ]
  },
  {
   "cell_type": "markdown",
   "id": "24d3e5ff",
   "metadata": {},
   "source": [
    "Here pvalue < 0.05 so we reject the Null hypothesis that mean the coins are biased"
   ]
  },
  {
   "cell_type": "code",
   "execution_count": null,
   "id": "54e49fd6",
   "metadata": {},
   "outputs": [],
   "source": []
  },
  {
   "cell_type": "code",
   "execution_count": 6,
   "id": "e6e3c790",
   "metadata": {},
   "outputs": [],
   "source": [
    "exp_r = pd.Series([0.1, 0.2, 0.4, 0.3])  # expected ratio of sale proprtion\n",
    "obs =   pd.Series([25, 41, 91, 68 ])    # sales count\n",
    "exp = exp_r * sum(obs)"
   ]
  },
  {
   "cell_type": "code",
   "execution_count": 7,
   "id": "a5992b8a",
   "metadata": {},
   "outputs": [
    {
     "data": {
      "text/plain": [
       "0    22.5\n",
       "1    45.0\n",
       "2    90.0\n",
       "3    67.5\n",
       "dtype: float64"
      ]
     },
     "execution_count": 7,
     "metadata": {},
     "output_type": "execute_result"
    }
   ],
   "source": [
    "exp"
   ]
  },
  {
   "cell_type": "code",
   "execution_count": 8,
   "id": "e1229d77",
   "metadata": {},
   "outputs": [
    {
     "data": {
      "text/plain": [
       "0    25\n",
       "1    41\n",
       "2    91\n",
       "3    68\n",
       "dtype: int64"
      ]
     },
     "execution_count": 8,
     "metadata": {},
     "output_type": "execute_result"
    }
   ],
   "source": [
    "obs"
   ]
  },
  {
   "cell_type": "code",
   "execution_count": 9,
   "id": "24a50057",
   "metadata": {},
   "outputs": [
    {
     "data": {
      "text/plain": [
       "Power_divergenceResult(statistic=0.648148148148148, pvalue=0.8853267818237286)"
      ]
     },
     "execution_count": 9,
     "metadata": {},
     "output_type": "execute_result"
    }
   ],
   "source": [
    "stats.chisquare(obs, exp)"
   ]
  },
  {
   "cell_type": "markdown",
   "id": "0a5dd4be",
   "metadata": {},
   "source": [
    "pvalue is greater than 0.05 that means I fail to reject the Null hypothesis\n",
    "So with this 95% confidence level we can say that there is no significant difference\n",
    "in the actual sales of shirts versus the expected sale of shirts"
   ]
  },
  {
   "cell_type": "code",
   "execution_count": null,
   "id": "d7c19d24",
   "metadata": {},
   "outputs": [],
   "source": []
  },
  {
   "cell_type": "code",
   "execution_count": null,
   "id": "f217ee55",
   "metadata": {},
   "outputs": [],
   "source": []
  }
 ],
 "metadata": {
  "kernelspec": {
   "display_name": "Python 3 (ipykernel)",
   "language": "python",
   "name": "python3"
  },
  "language_info": {
   "codemirror_mode": {
    "name": "ipython",
    "version": 3
   },
   "file_extension": ".py",
   "mimetype": "text/x-python",
   "name": "python",
   "nbconvert_exporter": "python",
   "pygments_lexer": "ipython3",
   "version": "3.9.13"
  }
 },
 "nbformat": 4,
 "nbformat_minor": 5
}
