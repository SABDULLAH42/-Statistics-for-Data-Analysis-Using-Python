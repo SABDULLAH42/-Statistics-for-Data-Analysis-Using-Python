{
 "cells": [
  {
   "cell_type": "code",
   "execution_count": 2,
   "id": "6e5e4b1e",
   "metadata": {},
   "outputs": [],
   "source": [
    "import numpy as np\n",
    "import pandas as pd\n",
    "import matplotlib.pyplot as plt\n",
    "import seaborn as sns\n",
    "import scipy.stats as stats\n",
    "from statsmodels.stats import proportion"
   ]
  },
  {
   "cell_type": "code",
   "execution_count": null,
   "id": "7cad4661",
   "metadata": {},
   "outputs": [],
   "source": [
    "stats.binom_test()"
   ]
  },
  {
   "cell_type": "markdown",
   "id": "7ba911ee",
   "metadata": {},
   "source": [
    "## From Vendor A we test 200 pieces and find 30 defectives. From Vendor B we test 100 pieces and we find 10 defectives.\n",
    "Is there a significant difference in the quality of these two vendors? use 95% confidence level"
   ]
  },
  {
   "cell_type": "code",
   "execution_count": 3,
   "id": "c0f80732",
   "metadata": {},
   "outputs": [
    {
     "data": {
      "text/plain": [
       "<class 'statsmodels.stats.base.HolderTuple'>\n",
       "statistic = 1.145433008876846\n",
       "pvalue = 0.2520298311822946\n",
       "compare = 'diff'\n",
       "method = 'agresti-caffo'\n",
       "diff = 0.04999999999999999\n",
       "ratio = 1.4999999999999998\n",
       "odds_ratio = 1.588235294117647\n",
       "variance = 0.001586401953652147\n",
       "alternative = 'two-sided'\n",
       "value = 0\n",
       "tuple = (1.145433008876846, 0.2520298311822946)"
      ]
     },
     "execution_count": 3,
     "metadata": {},
     "output_type": "execute_result"
    }
   ],
   "source": [
    "proportion.test_proportions_2indep(30, 200, 10, 100)"
   ]
  },
  {
   "cell_type": "markdown",
   "id": "233c5221",
   "metadata": {},
   "source": [
    "Since the p value is higher than the alpha 0.05. So we fail to reject the null hypothesis\n",
    "that means we cannot say that there is any significant difference"
   ]
  },
  {
   "cell_type": "code",
   "execution_count": null,
   "id": "fc6cb7dc",
   "metadata": {},
   "outputs": [],
   "source": []
  }
 ],
 "metadata": {
  "kernelspec": {
   "display_name": "Python 3 (ipykernel)",
   "language": "python",
   "name": "python3"
  },
  "language_info": {
   "codemirror_mode": {
    "name": "ipython",
    "version": 3
   },
   "file_extension": ".py",
   "mimetype": "text/x-python",
   "name": "python",
   "nbconvert_exporter": "python",
   "pygments_lexer": "ipython3",
   "version": "3.9.13"
  }
 },
 "nbformat": 4,
 "nbformat_minor": 5
}
