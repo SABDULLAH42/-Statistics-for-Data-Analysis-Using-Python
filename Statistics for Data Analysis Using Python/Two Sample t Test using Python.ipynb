{
 "cells": [
  {
   "cell_type": "code",
   "execution_count": 1,
   "id": "5aca63b3",
   "metadata": {},
   "outputs": [],
   "source": [
    "import numpy as np\n",
    "import pandas as pd\n",
    "import matplotlib.pyplot as plt\n",
    "import seaborn as sns\n",
    "import scipy.stats as stats\n",
    "from statsmodels.stats import weightstats"
   ]
  },
  {
   "cell_type": "markdown",
   "id": "61bd7098",
   "metadata": {},
   "source": [
    "## Two sample t Test Equal Variance"
   ]
  },
  {
   "cell_type": "code",
   "execution_count": 3,
   "id": "8c986599",
   "metadata": {},
   "outputs": [],
   "source": [
    "m1 = [150, 152, 154, 152, 151]    # two machines have the following volume ie cc in the perfume bottles\n",
    "m2 = [156, 155, 158, 155, 154]"
   ]
  },
  {
   "cell_type": "code",
   "execution_count": 4,
   "id": "7a44fa7b",
   "metadata": {},
   "outputs": [
    {
     "data": {
      "text/plain": [
       "Ttest_indResult(statistic=-4.005551702879929, pvalue=0.003919295477128331)"
      ]
     },
     "execution_count": 4,
     "metadata": {},
     "output_type": "execute_result"
    }
   ],
   "source": [
    "stats.ttest_ind(m1, m2, equal_var=True)"
   ]
  },
  {
   "cell_type": "markdown",
   "id": "e1251a3e",
   "metadata": {},
   "source": [
    "p value is very small as compared to alpha 0.05 with this we reject the Null hypothesis\n",
    "that means there is a significant diff in the volume of these two machines"
   ]
  },
  {
   "cell_type": "markdown",
   "id": "c413f8b6",
   "metadata": {},
   "source": [
    "## Two sample t Test Unequal Variance"
   ]
  },
  {
   "cell_type": "code",
   "execution_count": 5,
   "id": "878454cc",
   "metadata": {},
   "outputs": [],
   "source": [
    "m1 = [150, 152, 154, 152, 151]\n",
    "m3 = [144, 162, 177, 150, 140]"
   ]
  },
  {
   "cell_type": "code",
   "execution_count": 6,
   "id": "52788cab",
   "metadata": {},
   "outputs": [
    {
     "data": {
      "text/plain": [
       "Ttest_indResult(statistic=-0.4146442144313621, pvalue=0.699289145758865)"
      ]
     },
     "execution_count": 6,
     "metadata": {},
     "output_type": "execute_result"
    }
   ],
   "source": [
    "stats.ttest_ind(m1, m3, equal_var=False)"
   ]
  },
  {
   "cell_type": "markdown",
   "id": "05e15984",
   "metadata": {},
   "source": [
    "p value is quite high as compared to alpha 0.05 with this we fail to reject the Null hypothesis\n",
    "that means there is no significant diff in the volume of these two machines"
   ]
  },
  {
   "cell_type": "code",
   "execution_count": null,
   "id": "6e89c45c",
   "metadata": {},
   "outputs": [],
   "source": []
  }
 ],
 "metadata": {
  "kernelspec": {
   "display_name": "Python 3 (ipykernel)",
   "language": "python",
   "name": "python3"
  },
  "language_info": {
   "codemirror_mode": {
    "name": "ipython",
    "version": 3
   },
   "file_extension": ".py",
   "mimetype": "text/x-python",
   "name": "python",
   "nbconvert_exporter": "python",
   "pygments_lexer": "ipython3",
   "version": "3.9.13"
  }
 },
 "nbformat": 4,
 "nbformat_minor": 5
}
